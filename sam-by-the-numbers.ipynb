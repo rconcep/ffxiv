{
 "cells": [
  {
   "cell_type": "markdown",
   "metadata": {},
   "source": [
    "# Samurai by the numbers (lvl 1-49)\n",
    "## by Tzuyu Chou (Cactuar)"
   ]
  },
  {
   "cell_type": "markdown",
   "metadata": {},
   "source": [
    "## Update log\n",
    "### 06/02/2017: Finished for now.\n",
    "### 06/01/2017: Up to level 40 rotation."
   ]
  },
  {
   "cell_type": "code",
   "execution_count": 117,
   "metadata": {
    "collapsed": false
   },
   "outputs": [],
   "source": [
    "from samurai import *\n",
    "from plotting import *\n",
    "\n",
    "import matplotlib.pyplot as plt\n",
    "import pandas as pd\n",
    "import numpy as np\n",
    "import seaborn as sb\n",
    "from IPython.display import display\n",
    "%matplotlib inline"
   ]
  },
  {
   "cell_type": "markdown",
   "metadata": {},
   "source": [
    "## lvl 1-3 rotation"
   ]
  },
  {
   "cell_type": "markdown",
   "metadata": {},
   "source": [
    "### Up to level 3, you only have one weaponskill... so use it."
   ]
  },
  {
   "cell_type": "code",
   "execution_count": 118,
   "metadata": {
    "collapsed": false
   },
   "outputs": [],
   "source": [
    "sam = Samurai()\n",
    "\n",
    "actions = [('Hakaze', sam.hakaze()),\n",
    "           ('Hakaze', sam.hakaze()),\n",
    "           ('Hakaze', sam.hakaze()),\n",
    "           ('Hakaze', sam.hakaze()),\n",
    "           ('Hakaze', sam.hakaze()),\n",
    "           ('Hakaze', sam.hakaze()),\n",
    "           ('Hakaze', sam.hakaze()),\n",
    "           ('Hakaze', sam.hakaze()),\n",
    "           ('Hakaze', sam.hakaze()),]"
   ]
  },
  {
   "cell_type": "code",
   "execution_count": 119,
   "metadata": {
    "collapsed": false
   },
   "outputs": [
    {
     "data": {
      "text/html": [
       "<div>\n",
       "<table border=\"1\" class=\"dataframe\">\n",
       "  <thead>\n",
       "    <tr style=\"text-align: right;\">\n",
       "      <th></th>\n",
       "      <th>action</th>\n",
       "      <th>potency</th>\n",
       "      <th>total potency</th>\n",
       "    </tr>\n",
       "  </thead>\n",
       "  <tbody>\n",
       "    <tr>\n",
       "      <th>0</th>\n",
       "      <td>Hakaze</td>\n",
       "      <td>150.0</td>\n",
       "      <td>150.0</td>\n",
       "    </tr>\n",
       "    <tr>\n",
       "      <th>1</th>\n",
       "      <td>Hakaze</td>\n",
       "      <td>150.0</td>\n",
       "      <td>300.0</td>\n",
       "    </tr>\n",
       "    <tr>\n",
       "      <th>2</th>\n",
       "      <td>Hakaze</td>\n",
       "      <td>150.0</td>\n",
       "      <td>450.0</td>\n",
       "    </tr>\n",
       "    <tr>\n",
       "      <th>3</th>\n",
       "      <td>Hakaze</td>\n",
       "      <td>150.0</td>\n",
       "      <td>600.0</td>\n",
       "    </tr>\n",
       "    <tr>\n",
       "      <th>4</th>\n",
       "      <td>Hakaze</td>\n",
       "      <td>150.0</td>\n",
       "      <td>750.0</td>\n",
       "    </tr>\n",
       "    <tr>\n",
       "      <th>5</th>\n",
       "      <td>Hakaze</td>\n",
       "      <td>150.0</td>\n",
       "      <td>900.0</td>\n",
       "    </tr>\n",
       "    <tr>\n",
       "      <th>6</th>\n",
       "      <td>Hakaze</td>\n",
       "      <td>150.0</td>\n",
       "      <td>1050.0</td>\n",
       "    </tr>\n",
       "    <tr>\n",
       "      <th>7</th>\n",
       "      <td>Hakaze</td>\n",
       "      <td>150.0</td>\n",
       "      <td>1200.0</td>\n",
       "    </tr>\n",
       "    <tr>\n",
       "      <th>8</th>\n",
       "      <td>Hakaze</td>\n",
       "      <td>150.0</td>\n",
       "      <td>1350.0</td>\n",
       "    </tr>\n",
       "  </tbody>\n",
       "</table>\n",
       "</div>"
      ],
      "text/plain": [
       "   action  potency  total potency\n",
       "0  Hakaze    150.0          150.0\n",
       "1  Hakaze    150.0          300.0\n",
       "2  Hakaze    150.0          450.0\n",
       "3  Hakaze    150.0          600.0\n",
       "4  Hakaze    150.0          750.0\n",
       "5  Hakaze    150.0          900.0\n",
       "6  Hakaze    150.0         1050.0\n",
       "7  Hakaze    150.0         1200.0\n",
       "8  Hakaze    150.0         1350.0"
      ]
     },
     "metadata": {},
     "output_type": "display_data"
    }
   ],
   "source": [
    "df0 = pd.DataFrame(actions, columns=['action', 'potency'])\n",
    "df0['total potency'] = df0['potency'].cumsum(axis=0)\n",
    "display(df0)"
   ]
  },
  {
   "cell_type": "code",
   "execution_count": 120,
   "metadata": {
    "collapsed": false
   },
   "outputs": [
    {
     "data": {
      "image/png": "[encoded data removed]",
      "text/plain": [
       "<matplotlib.figure.Figure at 0xe063cf8>"
      ]
     },
     "metadata": {},
     "output_type": "display_data"
    }
   ],
   "source": [
    "plot_potency(df0)"
   ]
  },
  {
   "cell_type": "markdown",
   "metadata": {},
   "source": [
    "### Priority: Hakaze"
   ]
  },
  {
   "cell_type": "markdown",
   "metadata": {},
   "source": [
    "## lvl 4-17 rotation"
   ]
  },
  {
   "cell_type": "markdown",
   "metadata": {},
   "source": [
    "### At level 4, you gain the use of Jinpu, which combos from Hakaze and gives you your damage up buff. You'll definitely want to keep this buff up at all times and it should be simple enough with its 30s duration. The next weaponskill you obtain is Enbi, a ranged attack with a niche use. Level 6 grants you the defensive buff, Third Eye, and level 10 grants you the ability Ageha. Use Ageha on cooldown between weaponskills for additional damage."
   ]
  },
  {
   "cell_type": "code",
   "execution_count": 121,
   "metadata": {
    "collapsed": false
   },
   "outputs": [],
   "source": [
    "sam = Samurai()\n",
    "\n",
    "actions = [('Hakaze', sam.hakaze()),\n",
    "           ('Jinpu', sam.jinpu()),\n",
    "           ('Hakaze', sam.hakaze()),\n",
    "           ('Jinpu', sam.jinpu()),\n",
    "           ('Hakaze', sam.hakaze()),\n",
    "           ('Jinpu', sam.jinpu()),\n",
    "           ('Hakaze', sam.hakaze()),\n",
    "           ('Jinpu', sam.jinpu()),\n",
    "           ('Hakaze', sam.hakaze())]"
   ]
  },
  {
   "cell_type": "code",
   "execution_count": 122,
   "metadata": {
    "collapsed": false
   },
   "outputs": [
    {
     "data": {
      "text/html": [
       "<div>\n",
       "<table border=\"1\" class=\"dataframe\">\n",
       "  <thead>\n",
       "    <tr style=\"text-align: right;\">\n",
       "      <th></th>\n",
       "      <th>action</th>\n",
       "      <th>potency</th>\n",
       "      <th>total potency</th>\n",
       "    </tr>\n",
       "  </thead>\n",
       "  <tbody>\n",
       "    <tr>\n",
       "      <th>0</th>\n",
       "      <td>Hakaze</td>\n",
       "      <td>150.0</td>\n",
       "      <td>150.0</td>\n",
       "    </tr>\n",
       "    <tr>\n",
       "      <th>1</th>\n",
       "      <td>Jinpu</td>\n",
       "      <td>280.0</td>\n",
       "      <td>430.0</td>\n",
       "    </tr>\n",
       "    <tr>\n",
       "      <th>2</th>\n",
       "      <td>Hakaze</td>\n",
       "      <td>172.5</td>\n",
       "      <td>602.5</td>\n",
       "    </tr>\n",
       "    <tr>\n",
       "      <th>3</th>\n",
       "      <td>Jinpu</td>\n",
       "      <td>322.0</td>\n",
       "      <td>924.5</td>\n",
       "    </tr>\n",
       "    <tr>\n",
       "      <th>4</th>\n",
       "      <td>Hakaze</td>\n",
       "      <td>172.5</td>\n",
       "      <td>1097.0</td>\n",
       "    </tr>\n",
       "    <tr>\n",
       "      <th>5</th>\n",
       "      <td>Jinpu</td>\n",
       "      <td>322.0</td>\n",
       "      <td>1419.0</td>\n",
       "    </tr>\n",
       "    <tr>\n",
       "      <th>6</th>\n",
       "      <td>Hakaze</td>\n",
       "      <td>172.5</td>\n",
       "      <td>1591.5</td>\n",
       "    </tr>\n",
       "    <tr>\n",
       "      <th>7</th>\n",
       "      <td>Jinpu</td>\n",
       "      <td>322.0</td>\n",
       "      <td>1913.5</td>\n",
       "    </tr>\n",
       "    <tr>\n",
       "      <th>8</th>\n",
       "      <td>Hakaze</td>\n",
       "      <td>172.5</td>\n",
       "      <td>2086.0</td>\n",
       "    </tr>\n",
       "  </tbody>\n",
       "</table>\n",
       "</div>"
      ],
      "text/plain": [
       "   action  potency  total potency\n",
       "0  Hakaze    150.0          150.0\n",
       "1   Jinpu    280.0          430.0\n",
       "2  Hakaze    172.5          602.5\n",
       "3   Jinpu    322.0          924.5\n",
       "4  Hakaze    172.5         1097.0\n",
       "5   Jinpu    322.0         1419.0\n",
       "6  Hakaze    172.5         1591.5\n",
       "7   Jinpu    322.0         1913.5\n",
       "8  Hakaze    172.5         2086.0"
      ]
     },
     "metadata": {},
     "output_type": "display_data"
    }
   ],
   "source": [
    "df1 = pd.DataFrame(actions, columns=['action', 'potency'])\n",
    "df1['total potency'] = df1['potency'].cumsum(axis=0)\n",
    "display(df1)"
   ]
  },
  {
   "cell_type": "code",
   "execution_count": 123,
   "metadata": {
    "collapsed": false,
    "scrolled": true
   },
   "outputs": [
    {
     "data": {
      "image/png": "[encoded data removed]",
      "text/plain": [
       "<matplotlib.figure.Figure at 0xd142fd0>"
      ]
     },
     "metadata": {},
     "output_type": "display_data"
    }
   ],
   "source": [
    "plot_potency(df1)"
   ]
  },
  {
   "cell_type": "markdown",
   "metadata": {
    "collapsed": true
   },
   "source": [
    "### How does this compare to the previous rotation?"
   ]
  },
  {
   "cell_type": "code",
   "execution_count": 124,
   "metadata": {
    "collapsed": false
   },
   "outputs": [
    {
     "data": {
      "image/png": "[encoded data removed]",
      "text/plain": [
       "<matplotlib.figure.Figure at 0x10518a58>"
      ]
     },
     "metadata": {},
     "output_type": "display_data"
    }
   ],
   "source": [
    "compare_potencies([df0, df1], ['Hakaze only', 'Jinpu combo'])"
   ]
  },
  {
   "cell_type": "markdown",
   "metadata": {
    "collapsed": true
   },
   "source": [
    "### You'll definitely want to use the Jinpu combo and keep the buff up."
   ]
  },
  {
   "cell_type": "markdown",
   "metadata": {},
   "source": [
    "### Priority: Jinpu \n",
    "### Filler: Jinpu combo"
   ]
  },
  {
   "cell_type": "markdown",
   "metadata": {},
   "source": [
    "## lvl 18-29 rotation"
   ]
  },
  {
   "cell_type": "markdown",
   "metadata": {},
   "source": [
    "### Level 18 sees the introduction of your haste buff, Shifu. When executed as a combo, Shifu grants you this buff for a duration of 30s in addition to the additional combo potency. At these levels, it's fairly close as to which buff takes priority, Shifu or Jinpu. However, with the introduction of Sen, you will definitely want to prioritize Shifu so that you may open your Sen more often to execute the powerful Iaijutsu more often.\n",
    "\n",
    "** Note: the haste buff is modeled as a straight potency multiplier (11%) at this time since the discrete time model using timesteps of GCD does not account for the decreased GCD."
   ]
  },
  {
   "cell_type": "code",
   "execution_count": 125,
   "metadata": {
    "collapsed": false
   },
   "outputs": [],
   "source": [
    "sam = Samurai()\n",
    "\n",
    "actions = [('Hakaze', sam.hakaze()),\n",
    "           ('Shifu', sam.shifu()),\n",
    "           ('Hakaze', sam.hakaze()),\n",
    "           ('Jinpu', sam.jinpu()),\n",
    "           ('Hakaze', sam.hakaze()),\n",
    "           ('Shifu', sam.shifu()),\n",
    "           ('Hakaze', sam.hakaze()),\n",
    "           ('Jinpu', sam.jinpu()),\n",
    "           ('Hakaze', sam.hakaze())]"
   ]
  },
  {
   "cell_type": "code",
   "execution_count": 126,
   "metadata": {
    "collapsed": false
   },
   "outputs": [
    {
     "data": {
      "text/html": [
       "<div>\n",
       "<table border=\"1\" class=\"dataframe\">\n",
       "  <thead>\n",
       "    <tr style=\"text-align: right;\">\n",
       "      <th></th>\n",
       "      <th>action</th>\n",
       "      <th>potency</th>\n",
       "      <th>total potency</th>\n",
       "    </tr>\n",
       "  </thead>\n",
       "  <tbody>\n",
       "    <tr>\n",
       "      <th>0</th>\n",
       "      <td>Hakaze</td>\n",
       "      <td>150.000</td>\n",
       "      <td>150.000</td>\n",
       "    </tr>\n",
       "    <tr>\n",
       "      <th>1</th>\n",
       "      <td>Shifu</td>\n",
       "      <td>280.000</td>\n",
       "      <td>430.000</td>\n",
       "    </tr>\n",
       "    <tr>\n",
       "      <th>2</th>\n",
       "      <td>Hakaze</td>\n",
       "      <td>166.500</td>\n",
       "      <td>596.500</td>\n",
       "    </tr>\n",
       "    <tr>\n",
       "      <th>3</th>\n",
       "      <td>Jinpu</td>\n",
       "      <td>310.800</td>\n",
       "      <td>907.300</td>\n",
       "    </tr>\n",
       "    <tr>\n",
       "      <th>4</th>\n",
       "      <td>Hakaze</td>\n",
       "      <td>191.475</td>\n",
       "      <td>1098.775</td>\n",
       "    </tr>\n",
       "    <tr>\n",
       "      <th>5</th>\n",
       "      <td>Shifu</td>\n",
       "      <td>357.420</td>\n",
       "      <td>1456.195</td>\n",
       "    </tr>\n",
       "    <tr>\n",
       "      <th>6</th>\n",
       "      <td>Hakaze</td>\n",
       "      <td>191.475</td>\n",
       "      <td>1647.670</td>\n",
       "    </tr>\n",
       "    <tr>\n",
       "      <th>7</th>\n",
       "      <td>Jinpu</td>\n",
       "      <td>357.420</td>\n",
       "      <td>2005.090</td>\n",
       "    </tr>\n",
       "    <tr>\n",
       "      <th>8</th>\n",
       "      <td>Hakaze</td>\n",
       "      <td>191.475</td>\n",
       "      <td>2196.565</td>\n",
       "    </tr>\n",
       "  </tbody>\n",
       "</table>\n",
       "</div>"
      ],
      "text/plain": [
       "   action  potency  total potency\n",
       "0  Hakaze  150.000        150.000\n",
       "1   Shifu  280.000        430.000\n",
       "2  Hakaze  166.500        596.500\n",
       "3   Jinpu  310.800        907.300\n",
       "4  Hakaze  191.475       1098.775\n",
       "5   Shifu  357.420       1456.195\n",
       "6  Hakaze  191.475       1647.670\n",
       "7   Jinpu  357.420       2005.090\n",
       "8  Hakaze  191.475       2196.565"
      ]
     },
     "metadata": {},
     "output_type": "display_data"
    }
   ],
   "source": [
    "df2 = pd.DataFrame(actions, columns=['action', 'potency'])\n",
    "df2['total potency'] = df2['potency'].cumsum(axis=0)\n",
    "display(df2)"
   ]
  },
  {
   "cell_type": "code",
   "execution_count": 127,
   "metadata": {
    "collapsed": false
   },
   "outputs": [
    {
     "data": {
      "image/png": "[encoded data removed]",
      "text/plain": [
       "<matplotlib.figure.Figure at 0xe16ee48>"
      ]
     },
     "metadata": {},
     "output_type": "display_data"
    }
   ],
   "source": [
    "compare_potencies([df1, df2], ['Jinpu combo only', 'Jinpu and Shifu combos'])"
   ]
  },
  {
   "cell_type": "markdown",
   "metadata": {},
   "source": [
    "#### Note: The Shifu buff is modeled as a 10% increase in potency per GCD, chosen arbitrarily. This explains the discrepancy for the first two GCDs. "
   ]
  },
  {
   "cell_type": "markdown",
   "metadata": {},
   "source": [
    "### Note that level 26 introduces your first AoE ability, Fuga. At this time, it does not combo to or from anything and deals 100 potency to all targets in a frontal cone. However, our Shifu/Jinpu combo rotation deals a hefty..."
   ]
  },
  {
   "cell_type": "code",
   "execution_count": 128,
   "metadata": {
    "collapsed": false
   },
   "outputs": [
    {
     "data": {
      "text/plain": [
       "250.63624999999999"
      ]
     },
     "execution_count": 128,
     "metadata": {},
     "output_type": "execute_result"
    }
   ],
   "source": [
    "df2['total potency'][7] / 8"
   ]
  },
  {
   "cell_type": "markdown",
   "metadata": {},
   "source": [
    "### average potency per GCD! Napkin math reveals that Fuga should do more potency per GCD for three or more targets. Should we put our Shifu and Jinpu buffs if they're not up before using Fuga? Depends on how long the encounter is."
   ]
  },
  {
   "cell_type": "code",
   "execution_count": 129,
   "metadata": {
    "collapsed": false
   },
   "outputs": [],
   "source": [
    "dfs_buff = []\n",
    "labels = []\n",
    "\n",
    "for n_targets in range(3, 8):\n",
    "    sam = Samurai()\n",
    "    \n",
    "    actions = [('Hakaze', sam.hakaze()),\n",
    "               ('Shifu', sam.shifu()),\n",
    "               ('Hakaze', sam.hakaze()),\n",
    "               ('Jinpu', sam.jinpu()),\n",
    "               ('Fuga', sam.fuga(n_targets)),\n",
    "               ('Fuga', sam.fuga(n_targets)),\n",
    "               ('Fuga', sam.fuga(n_targets)),\n",
    "               ('Fuga', sam.fuga(n_targets)),\n",
    "               ('Fuga', sam.fuga(n_targets))]\n",
    "    \n",
    "    df_temp = pd.DataFrame(actions, columns=['action', 'potency'])\n",
    "    df_temp['total potency'] = df_temp['potency'].cumsum(axis=0)\n",
    "    dfs_buff.append(df_temp)\n",
    "    \n",
    "    labels.append('%s targets' % n_targets)   "
   ]
  },
  {
   "cell_type": "code",
   "execution_count": 130,
   "metadata": {
    "collapsed": false
   },
   "outputs": [
    {
     "data": {
      "image/png": "[encoded data removed]",
      "text/plain": [
       "<matplotlib.figure.Figure at 0x105ada58>"
      ]
     },
     "metadata": {},
     "output_type": "display_data"
    }
   ],
   "source": [
    "compare_n_potencies(dfs_buff, labels)"
   ]
  },
  {
   "cell_type": "markdown",
   "metadata": {
    "collapsed": false
   },
   "source": [
    "### For Fuga with no buffs:"
   ]
  },
  {
   "cell_type": "code",
   "execution_count": 131,
   "metadata": {
    "collapsed": true
   },
   "outputs": [],
   "source": [
    "dfs_no_buff = []\n",
    "labels = []\n",
    "\n",
    "for n_targets in range(3, 8):\n",
    "    sam = Samurai()\n",
    "    \n",
    "    actions = [('Fuga', sam.fuga(n_targets)),\n",
    "               ('Fuga', sam.fuga(n_targets)),\n",
    "               ('Fuga', sam.fuga(n_targets)),\n",
    "               ('Fuga', sam.fuga(n_targets)),\n",
    "               ('Fuga', sam.fuga(n_targets)),\n",
    "               ('Fuga', sam.fuga(n_targets)),\n",
    "               ('Fuga', sam.fuga(n_targets)),\n",
    "               ('Fuga', sam.fuga(n_targets)),\n",
    "               ('Fuga', sam.fuga(n_targets))]\n",
    "    \n",
    "    df_temp = pd.DataFrame(actions, columns=['action', 'potency'])\n",
    "    df_temp['total potency'] = df_temp['potency'].cumsum(axis=0)\n",
    "    dfs_no_buff.append(df_temp)\n",
    "    \n",
    "    labels.append('%s targets' % n_targets)  "
   ]
  },
  {
   "cell_type": "code",
   "execution_count": 132,
   "metadata": {
    "collapsed": false
   },
   "outputs": [
    {
     "data": {
      "image/png": "[encoded data removed]",
      "text/plain": [
       "<matplotlib.figure.Figure at 0xd3428d0>"
      ]
     },
     "metadata": {},
     "output_type": "display_data"
    }
   ],
   "source": [
    "compare_n_potencies(dfs_no_buff, labels)"
   ]
  },
  {
   "cell_type": "markdown",
   "metadata": {},
   "source": [
    "### The potency over four GCDs to put up Shifu and Jinpu is about 977. For $n$ targets, Fuga deals $4*n*100$ potency over that same time frame. The new potency per GCD with the buffs up is about $1.15*1.11*100=127.65$ potency times the number of targets."
   ]
  },
  {
   "cell_type": "code",
   "execution_count": 133,
   "metadata": {
    "collapsed": false
   },
   "outputs": [
    {
     "data": {
      "image/png": "[encoded data removed]",
      "text/plain": [
       "<matplotlib.figure.Figure at 0xc84a710>"
      ]
     },
     "metadata": {},
     "output_type": "display_data"
    }
   ],
   "source": [
    "fig, axes = plt.subplots(nrows=len(dfs_buff), ncols=1, sharex=True, figsize=(12,12))\n",
    "fig.tight_layout(pad=2)\n",
    "\n",
    "for k, df in enumerate(dfs_buff): \n",
    "    ax = axes[k]\n",
    "    \n",
    "    ax.plot(df['total potency'], '-o', label='buffs')\n",
    "    ax.plot(dfs_no_buff[k]['total potency'], ':o', label='no buffs')\n",
    "\n",
    "    ax.set_ylabel('Cumulative Potency', fontsize=10)\n",
    "    axes[-1].set_xlabel('GCD')\n",
    "    ax.legend(loc='upper left', framealpha=0.5, prop={'size': 'small'})\n",
    "\n",
    "fig.suptitle('Cumulative potency over time for 3, 4, 5, 6, 7 targets')\n",
    "fig.tight_layout(pad=2)"
   ]
  },
  {
   "cell_type": "markdown",
   "metadata": {},
   "source": [
    "### There are approximately ten GCDs after putting up your first buff, Shifu before you need to refresh it. For small mob counts, the crossover point where putting up buffs before using Fuga is more optimal occurs fairly early. However, as the number of targets increases, the upfront \"cost\" of putting the buffs up does not pay off. At these low levels, the pull sizes are likely to be small and depending on party composition, the AoE damage may not be high... so putting up buffs may win out (just watch out for the TP consumption!)"
   ]
  },
  {
   "cell_type": "markdown",
   "metadata": {},
   "source": [
    "### Priority: Shifu > Jinpu. \n",
    "### Filler: Either combo to maintain the buffs.\n",
    "\n",
    "### AoE: Shifu > Jinpu > Fuga for small groups. Fuga only for large groups (>6 or so)"
   ]
  },
  {
   "cell_type": "markdown",
   "metadata": {},
   "source": [
    "## lvl 30-39 rotation"
   ]
  },
  {
   "cell_type": "markdown",
   "metadata": {},
   "source": [
    "### Level 30 sees the introduction of your first Sen through the Gekko combo finisher (combo from Jinpu) and with it your first Iaijutsu, Higanbana. This powerful single-target weaponskill applies a 60s DoT in addition to initial damage for a total of 940 potency over its duration."
   ]
  },
  {
   "cell_type": "code",
   "execution_count": 134,
   "metadata": {
    "collapsed": false
   },
   "outputs": [],
   "source": [
    "sam = Samurai()\n",
    "\n",
    "actions = [('Hakaze', sam.hakaze()),\n",
    "           ('Shifu', sam.shifu()),\n",
    "           ('Hakaze', sam.hakaze()),\n",
    "           ('Jinpu', sam.jinpu()),\n",
    "           ('Gekko', sam.gekko()),\n",
    "           ('Higanbana', sam.higanbana()),\n",
    "           ('Hakaze', sam.hakaze()+sam.higanbana_dot()),\n",
    "           ('Jinpu', sam.jinpu()+sam.higanbana_dot()),\n",
    "           ('Gekko', sam.gekko()+sam.higanbana_dot())]"
   ]
  },
  {
   "cell_type": "code",
   "execution_count": 135,
   "metadata": {
    "collapsed": false
   },
   "outputs": [
    {
     "data": {
      "text/html": [
       "<div>\n",
       "<table border=\"1\" class=\"dataframe\">\n",
       "  <thead>\n",
       "    <tr style=\"text-align: right;\">\n",
       "      <th></th>\n",
       "      <th>action</th>\n",
       "      <th>potency</th>\n",
       "      <th>total potency</th>\n",
       "    </tr>\n",
       "  </thead>\n",
       "  <tbody>\n",
       "    <tr>\n",
       "      <th>0</th>\n",
       "      <td>Hakaze</td>\n",
       "      <td>150.000000</td>\n",
       "      <td>150.000000</td>\n",
       "    </tr>\n",
       "    <tr>\n",
       "      <th>1</th>\n",
       "      <td>Shifu</td>\n",
       "      <td>280.000000</td>\n",
       "      <td>430.000000</td>\n",
       "    </tr>\n",
       "    <tr>\n",
       "      <th>2</th>\n",
       "      <td>Hakaze</td>\n",
       "      <td>166.500000</td>\n",
       "      <td>596.500000</td>\n",
       "    </tr>\n",
       "    <tr>\n",
       "      <th>3</th>\n",
       "      <td>Jinpu</td>\n",
       "      <td>310.800000</td>\n",
       "      <td>907.300000</td>\n",
       "    </tr>\n",
       "    <tr>\n",
       "      <th>4</th>\n",
       "      <td>Gekko</td>\n",
       "      <td>510.600000</td>\n",
       "      <td>1417.900000</td>\n",
       "    </tr>\n",
       "    <tr>\n",
       "      <th>5</th>\n",
       "      <td>Higanbana</td>\n",
       "      <td>306.360000</td>\n",
       "      <td>1724.260000</td>\n",
       "    </tr>\n",
       "    <tr>\n",
       "      <th>6</th>\n",
       "      <td>Hakaze</td>\n",
       "      <td>246.361364</td>\n",
       "      <td>1970.621364</td>\n",
       "    </tr>\n",
       "    <tr>\n",
       "      <th>7</th>\n",
       "      <td>Jinpu</td>\n",
       "      <td>412.306364</td>\n",
       "      <td>2382.927727</td>\n",
       "    </tr>\n",
       "    <tr>\n",
       "      <th>8</th>\n",
       "      <td>Gekko</td>\n",
       "      <td>565.486364</td>\n",
       "      <td>2948.414091</td>\n",
       "    </tr>\n",
       "  </tbody>\n",
       "</table>\n",
       "</div>"
      ],
      "text/plain": [
       "      action     potency  total potency\n",
       "0     Hakaze  150.000000     150.000000\n",
       "1      Shifu  280.000000     430.000000\n",
       "2     Hakaze  166.500000     596.500000\n",
       "3      Jinpu  310.800000     907.300000\n",
       "4      Gekko  510.600000    1417.900000\n",
       "5  Higanbana  306.360000    1724.260000\n",
       "6     Hakaze  246.361364    1970.621364\n",
       "7      Jinpu  412.306364    2382.927727\n",
       "8      Gekko  565.486364    2948.414091"
      ]
     },
     "metadata": {},
     "output_type": "display_data"
    }
   ],
   "source": [
    "df3 = pd.DataFrame(actions, columns=['action', 'potency'])\n",
    "df3['total potency'] = df3['potency'].cumsum(axis=0)\n",
    "display(df3)"
   ]
  },
  {
   "cell_type": "markdown",
   "metadata": {
    "collapsed": false
   },
   "source": [
    "### Note: the potency of the DoT is prorated due to the GCD being shorter than the DoT tick period. So Higanbana's initial potency is applied on action and the DoT potency is added to subsequent GCDs. "
   ]
  },
  {
   "cell_type": "code",
   "execution_count": 136,
   "metadata": {
    "collapsed": false
   },
   "outputs": [
    {
     "data": {
      "image/png": "[encoded data removed]",
      "text/plain": [
       "<matplotlib.figure.Figure at 0xd307eb8>"
      ]
     },
     "metadata": {},
     "output_type": "display_data"
    }
   ],
   "source": [
    "plot_potency(df3)"
   ]
  },
  {
   "cell_type": "markdown",
   "metadata": {},
   "source": [
    "### At this point, the average potency of the Gekko combo is $400+280+150=830/3=~276.66$ before buffs. The average potency of the Shifu combo is $150+280=430/2=215$ before buffs. Therefore, Higanbana is more optimal than the Gekko combo after two DoT ticks. Since it takes approximately 3-4 GCDs to reapply Higanbana (Gekko combo plus cast time of Higanbana), Higanbana will always be optimal to clip in single target situations. In small mob groups, applying Higanbana to each target may also be optimal. (Need to do analysis.)"
   ]
  },
  {
   "cell_type": "code",
   "execution_count": 137,
   "metadata": {
    "collapsed": false
   },
   "outputs": [],
   "source": [
    "sam = Samurai()\n",
    "\n",
    "actions = [('Hakaze', sam.hakaze()),\n",
    "           ('Shifu', sam.shifu()),\n",
    "           ('Hakaze', sam.hakaze()),\n",
    "           ('Jinpu', sam.jinpu()),\n",
    "           ('Gekko', sam.gekko()),\n",
    "           ('Hakaze', sam.hakaze()),\n",
    "           ('Jinpu', sam.jinpu()),\n",
    "           ('Gekko', sam.gekko()),\n",
    "           ('Hakaze', sam.hakaze()),\n",
    "           ('Jinpu', sam.jinpu()),\n",
    "           ('Gekko', sam.gekko()),\n",
    "           ('Hakaze', sam.hakaze()),\n",
    "           ('Shifu', sam.shifu()),\n",
    "           ('Hakaze', sam.hakaze()),\n",
    "           ('Jinpu', sam.jinpu()),\n",
    "           ('Gekko', sam.gekko())]"
   ]
  },
  {
   "cell_type": "code",
   "execution_count": 138,
   "metadata": {
    "collapsed": false
   },
   "outputs": [
    {
     "data": {
      "text/html": [
       "<div>\n",
       "<table border=\"1\" class=\"dataframe\">\n",
       "  <thead>\n",
       "    <tr style=\"text-align: right;\">\n",
       "      <th></th>\n",
       "      <th>action</th>\n",
       "      <th>potency</th>\n",
       "      <th>total potency</th>\n",
       "    </tr>\n",
       "  </thead>\n",
       "  <tbody>\n",
       "    <tr>\n",
       "      <th>0</th>\n",
       "      <td>Hakaze</td>\n",
       "      <td>150.000</td>\n",
       "      <td>150.000</td>\n",
       "    </tr>\n",
       "    <tr>\n",
       "      <th>1</th>\n",
       "      <td>Shifu</td>\n",
       "      <td>280.000</td>\n",
       "      <td>430.000</td>\n",
       "    </tr>\n",
       "    <tr>\n",
       "      <th>2</th>\n",
       "      <td>Hakaze</td>\n",
       "      <td>166.500</td>\n",
       "      <td>596.500</td>\n",
       "    </tr>\n",
       "    <tr>\n",
       "      <th>3</th>\n",
       "      <td>Jinpu</td>\n",
       "      <td>310.800</td>\n",
       "      <td>907.300</td>\n",
       "    </tr>\n",
       "    <tr>\n",
       "      <th>4</th>\n",
       "      <td>Gekko</td>\n",
       "      <td>510.600</td>\n",
       "      <td>1417.900</td>\n",
       "    </tr>\n",
       "    <tr>\n",
       "      <th>5</th>\n",
       "      <td>Hakaze</td>\n",
       "      <td>191.475</td>\n",
       "      <td>1609.375</td>\n",
       "    </tr>\n",
       "    <tr>\n",
       "      <th>6</th>\n",
       "      <td>Jinpu</td>\n",
       "      <td>357.420</td>\n",
       "      <td>1966.795</td>\n",
       "    </tr>\n",
       "    <tr>\n",
       "      <th>7</th>\n",
       "      <td>Gekko</td>\n",
       "      <td>510.600</td>\n",
       "      <td>2477.395</td>\n",
       "    </tr>\n",
       "    <tr>\n",
       "      <th>8</th>\n",
       "      <td>Hakaze</td>\n",
       "      <td>191.475</td>\n",
       "      <td>2668.870</td>\n",
       "    </tr>\n",
       "    <tr>\n",
       "      <th>9</th>\n",
       "      <td>Jinpu</td>\n",
       "      <td>357.420</td>\n",
       "      <td>3026.290</td>\n",
       "    </tr>\n",
       "    <tr>\n",
       "      <th>10</th>\n",
       "      <td>Gekko</td>\n",
       "      <td>510.600</td>\n",
       "      <td>3536.890</td>\n",
       "    </tr>\n",
       "    <tr>\n",
       "      <th>11</th>\n",
       "      <td>Hakaze</td>\n",
       "      <td>191.475</td>\n",
       "      <td>3728.365</td>\n",
       "    </tr>\n",
       "    <tr>\n",
       "      <th>12</th>\n",
       "      <td>Shifu</td>\n",
       "      <td>357.420</td>\n",
       "      <td>4085.785</td>\n",
       "    </tr>\n",
       "    <tr>\n",
       "      <th>13</th>\n",
       "      <td>Hakaze</td>\n",
       "      <td>191.475</td>\n",
       "      <td>4277.260</td>\n",
       "    </tr>\n",
       "    <tr>\n",
       "      <th>14</th>\n",
       "      <td>Jinpu</td>\n",
       "      <td>357.420</td>\n",
       "      <td>4634.680</td>\n",
       "    </tr>\n",
       "    <tr>\n",
       "      <th>15</th>\n",
       "      <td>Gekko</td>\n",
       "      <td>510.600</td>\n",
       "      <td>5145.280</td>\n",
       "    </tr>\n",
       "  </tbody>\n",
       "</table>\n",
       "</div>"
      ],
      "text/plain": [
       "    action  potency  total potency\n",
       "0   Hakaze  150.000        150.000\n",
       "1    Shifu  280.000        430.000\n",
       "2   Hakaze  166.500        596.500\n",
       "3    Jinpu  310.800        907.300\n",
       "4    Gekko  510.600       1417.900\n",
       "5   Hakaze  191.475       1609.375\n",
       "6    Jinpu  357.420       1966.795\n",
       "7    Gekko  510.600       2477.395\n",
       "8   Hakaze  191.475       2668.870\n",
       "9    Jinpu  357.420       3026.290\n",
       "10   Gekko  510.600       3536.890\n",
       "11  Hakaze  191.475       3728.365\n",
       "12   Shifu  357.420       4085.785\n",
       "13  Hakaze  191.475       4277.260\n",
       "14   Jinpu  357.420       4634.680\n",
       "15   Gekko  510.600       5145.280"
      ]
     },
     "metadata": {},
     "output_type": "display_data"
    }
   ],
   "source": [
    "df2_ext = pd.DataFrame(actions, columns=['action', 'potency'])\n",
    "df2_ext['total potency'] = df2_ext['potency'].cumsum(axis=0)\n",
    "display(df2_ext)"
   ]
  },
  {
   "cell_type": "code",
   "execution_count": 139,
   "metadata": {
    "collapsed": false
   },
   "outputs": [],
   "source": [
    "sam = Samurai()\n",
    "\n",
    "actions = [('Hakaze', sam.hakaze()),\n",
    "           ('Shifu', sam.shifu()),\n",
    "           ('Hakaze', sam.hakaze()),\n",
    "           ('Jinpu', sam.jinpu()),\n",
    "           ('Gekko', sam.gekko()),\n",
    "           ('Higanbana', sam.higanbana()),\n",
    "           ('Hakaze', sam.hakaze()+sam.higanbana_dot()),\n",
    "           ('Jinpu', sam.jinpu()+sam.higanbana_dot()),\n",
    "           ('Gekko', sam.gekko()+sam.higanbana_dot()),\n",
    "           ('Higanbana', sam.higanbana()+sam.higanbana_dot()),\n",
    "           ('Hakaze', sam.hakaze()+sam.higanbana_dot()),\n",
    "           ('Shifu', sam.jinpu()+sam.higanbana_dot()),\n",
    "           ('Hakaze', sam.hakaze()+sam.higanbana_dot()),\n",
    "           ('Jinpu', sam.jinpu()+sam.higanbana_dot()),\n",
    "           ('Gekko', sam.gekko()+sam.higanbana_dot()),\n",
    "           ('Higanbana', sam.higanbana()+sam.higanbana_dot())]"
   ]
  },
  {
   "cell_type": "code",
   "execution_count": 140,
   "metadata": {
    "collapsed": false,
    "scrolled": true
   },
   "outputs": [
    {
     "data": {
      "text/html": [
       "<div>\n",
       "<table border=\"1\" class=\"dataframe\">\n",
       "  <thead>\n",
       "    <tr style=\"text-align: right;\">\n",
       "      <th></th>\n",
       "      <th>action</th>\n",
       "      <th>potency</th>\n",
       "      <th>total potency</th>\n",
       "    </tr>\n",
       "  </thead>\n",
       "  <tbody>\n",
       "    <tr>\n",
       "      <th>0</th>\n",
       "      <td>Hakaze</td>\n",
       "      <td>150.000000</td>\n",
       "      <td>150.000000</td>\n",
       "    </tr>\n",
       "    <tr>\n",
       "      <th>1</th>\n",
       "      <td>Shifu</td>\n",
       "      <td>280.000000</td>\n",
       "      <td>430.000000</td>\n",
       "    </tr>\n",
       "    <tr>\n",
       "      <th>2</th>\n",
       "      <td>Hakaze</td>\n",
       "      <td>166.500000</td>\n",
       "      <td>596.500000</td>\n",
       "    </tr>\n",
       "    <tr>\n",
       "      <th>3</th>\n",
       "      <td>Jinpu</td>\n",
       "      <td>310.800000</td>\n",
       "      <td>907.300000</td>\n",
       "    </tr>\n",
       "    <tr>\n",
       "      <th>4</th>\n",
       "      <td>Gekko</td>\n",
       "      <td>510.600000</td>\n",
       "      <td>1417.900000</td>\n",
       "    </tr>\n",
       "    <tr>\n",
       "      <th>5</th>\n",
       "      <td>Higanbana</td>\n",
       "      <td>306.360000</td>\n",
       "      <td>1724.260000</td>\n",
       "    </tr>\n",
       "    <tr>\n",
       "      <th>6</th>\n",
       "      <td>Hakaze</td>\n",
       "      <td>246.361364</td>\n",
       "      <td>1970.621364</td>\n",
       "    </tr>\n",
       "    <tr>\n",
       "      <th>7</th>\n",
       "      <td>Jinpu</td>\n",
       "      <td>412.306364</td>\n",
       "      <td>2382.927727</td>\n",
       "    </tr>\n",
       "    <tr>\n",
       "      <th>8</th>\n",
       "      <td>Gekko</td>\n",
       "      <td>565.486364</td>\n",
       "      <td>2948.414091</td>\n",
       "    </tr>\n",
       "    <tr>\n",
       "      <th>9</th>\n",
       "      <td>Higanbana</td>\n",
       "      <td>361.246364</td>\n",
       "      <td>3309.660455</td>\n",
       "    </tr>\n",
       "    <tr>\n",
       "      <th>10</th>\n",
       "      <td>Hakaze</td>\n",
       "      <td>246.361364</td>\n",
       "      <td>3556.021818</td>\n",
       "    </tr>\n",
       "    <tr>\n",
       "      <th>11</th>\n",
       "      <td>Shifu</td>\n",
       "      <td>412.306364</td>\n",
       "      <td>3968.328182</td>\n",
       "    </tr>\n",
       "    <tr>\n",
       "      <th>12</th>\n",
       "      <td>Hakaze</td>\n",
       "      <td>246.361364</td>\n",
       "      <td>4214.689545</td>\n",
       "    </tr>\n",
       "    <tr>\n",
       "      <th>13</th>\n",
       "      <td>Jinpu</td>\n",
       "      <td>412.306364</td>\n",
       "      <td>4626.995909</td>\n",
       "    </tr>\n",
       "    <tr>\n",
       "      <th>14</th>\n",
       "      <td>Gekko</td>\n",
       "      <td>565.486364</td>\n",
       "      <td>5192.482273</td>\n",
       "    </tr>\n",
       "    <tr>\n",
       "      <th>15</th>\n",
       "      <td>Higanbana</td>\n",
       "      <td>361.246364</td>\n",
       "      <td>5553.728636</td>\n",
       "    </tr>\n",
       "  </tbody>\n",
       "</table>\n",
       "</div>"
      ],
      "text/plain": [
       "       action     potency  total potency\n",
       "0      Hakaze  150.000000     150.000000\n",
       "1       Shifu  280.000000     430.000000\n",
       "2      Hakaze  166.500000     596.500000\n",
       "3       Jinpu  310.800000     907.300000\n",
       "4       Gekko  510.600000    1417.900000\n",
       "5   Higanbana  306.360000    1724.260000\n",
       "6      Hakaze  246.361364    1970.621364\n",
       "7       Jinpu  412.306364    2382.927727\n",
       "8       Gekko  565.486364    2948.414091\n",
       "9   Higanbana  361.246364    3309.660455\n",
       "10     Hakaze  246.361364    3556.021818\n",
       "11      Shifu  412.306364    3968.328182\n",
       "12     Hakaze  246.361364    4214.689545\n",
       "13      Jinpu  412.306364    4626.995909\n",
       "14      Gekko  565.486364    5192.482273\n",
       "15  Higanbana  361.246364    5553.728636"
      ]
     },
     "metadata": {},
     "output_type": "display_data"
    }
   ],
   "source": [
    "df3_ext = pd.DataFrame(actions, columns=['action', 'potency'])\n",
    "df3_ext['total potency'] = df3_ext['potency'].cumsum(axis=0)\n",
    "display(df3_ext)"
   ]
  },
  {
   "cell_type": "markdown",
   "metadata": {},
   "source": [
    "### Here is an extended comparison of adding the Gekko finisher to the rotation but no Higanbana and the rotation with Higanbana (with DoT clipping) on a single target. In a multi-target situation, the DoT can be applied to different mobs to avoid clipping. This will increase the DoT potency accumulation following each Higanbana application, leading to a slight increase in net potency. Note the reapplication of Shifu to keep the buff up."
   ]
  },
  {
   "cell_type": "code",
   "execution_count": 141,
   "metadata": {
    "collapsed": false
   },
   "outputs": [
    {
     "data": {
      "image/png": "[encoded data removed]",
      "text/plain": [
       "<matplotlib.figure.Figure at 0xd003e10>"
      ]
     },
     "metadata": {},
     "output_type": "display_data"
    }
   ],
   "source": [
    "compare_potencies([df2_ext, df3_ext], ['No Higanbana', 'With Higanbana and clipping'])"
   ]
  },
  {
   "cell_type": "markdown",
   "metadata": {},
   "source": [
    "### Now let's try applying Higanbana once and not clipping it:"
   ]
  },
  {
   "cell_type": "code",
   "execution_count": 142,
   "metadata": {
    "collapsed": true
   },
   "outputs": [],
   "source": [
    "sam = Samurai()\n",
    "\n",
    "actions = [('Hakaze', sam.hakaze()),\n",
    "           ('Shifu', sam.shifu()),\n",
    "           ('Hakaze', sam.hakaze()),\n",
    "           ('Jinpu', sam.jinpu()),\n",
    "           ('Gekko', sam.gekko()),\n",
    "           ('Higanbana', sam.higanbana()),\n",
    "           ('Hakaze', sam.hakaze()+sam.higanbana_dot()),\n",
    "           ('Jinpu', sam.jinpu()+sam.higanbana_dot()),\n",
    "           ('Gekko', sam.gekko()+sam.higanbana_dot()),\n",
    "           ('Hakaze', sam.hakaze()+sam.higanbana_dot()),\n",
    "           ('Shifu', sam.jinpu()+sam.higanbana_dot()),\n",
    "           ('Hakaze', sam.hakaze()+sam.higanbana_dot()),\n",
    "           ('Jinpu', sam.jinpu()+sam.higanbana_dot()),\n",
    "           ('Gekko', sam.gekko()+sam.higanbana_dot()),\n",
    "           ('Hakaze', sam.hakaze()+sam.higanbana_dot()),\n",
    "           ('Jinpu', sam.jinpu()+sam.higanbana_dot())]"
   ]
  },
  {
   "cell_type": "code",
   "execution_count": 143,
   "metadata": {
    "collapsed": false
   },
   "outputs": [
    {
     "data": {
      "text/html": [
       "<div>\n",
       "<table border=\"1\" class=\"dataframe\">\n",
       "  <thead>\n",
       "    <tr style=\"text-align: right;\">\n",
       "      <th></th>\n",
       "      <th>action</th>\n",
       "      <th>potency</th>\n",
       "      <th>total potency</th>\n",
       "    </tr>\n",
       "  </thead>\n",
       "  <tbody>\n",
       "    <tr>\n",
       "      <th>0</th>\n",
       "      <td>Hakaze</td>\n",
       "      <td>150.000000</td>\n",
       "      <td>150.000000</td>\n",
       "    </tr>\n",
       "    <tr>\n",
       "      <th>1</th>\n",
       "      <td>Shifu</td>\n",
       "      <td>280.000000</td>\n",
       "      <td>430.000000</td>\n",
       "    </tr>\n",
       "    <tr>\n",
       "      <th>2</th>\n",
       "      <td>Hakaze</td>\n",
       "      <td>166.500000</td>\n",
       "      <td>596.500000</td>\n",
       "    </tr>\n",
       "    <tr>\n",
       "      <th>3</th>\n",
       "      <td>Jinpu</td>\n",
       "      <td>310.800000</td>\n",
       "      <td>907.300000</td>\n",
       "    </tr>\n",
       "    <tr>\n",
       "      <th>4</th>\n",
       "      <td>Gekko</td>\n",
       "      <td>510.600000</td>\n",
       "      <td>1417.900000</td>\n",
       "    </tr>\n",
       "    <tr>\n",
       "      <th>5</th>\n",
       "      <td>Higanbana</td>\n",
       "      <td>306.360000</td>\n",
       "      <td>1724.260000</td>\n",
       "    </tr>\n",
       "    <tr>\n",
       "      <th>6</th>\n",
       "      <td>Hakaze</td>\n",
       "      <td>246.361364</td>\n",
       "      <td>1970.621364</td>\n",
       "    </tr>\n",
       "    <tr>\n",
       "      <th>7</th>\n",
       "      <td>Jinpu</td>\n",
       "      <td>412.306364</td>\n",
       "      <td>2382.927727</td>\n",
       "    </tr>\n",
       "    <tr>\n",
       "      <th>8</th>\n",
       "      <td>Gekko</td>\n",
       "      <td>565.486364</td>\n",
       "      <td>2948.414091</td>\n",
       "    </tr>\n",
       "    <tr>\n",
       "      <th>9</th>\n",
       "      <td>Hakaze</td>\n",
       "      <td>246.361364</td>\n",
       "      <td>3194.775455</td>\n",
       "    </tr>\n",
       "    <tr>\n",
       "      <th>10</th>\n",
       "      <td>Shifu</td>\n",
       "      <td>412.306364</td>\n",
       "      <td>3607.081818</td>\n",
       "    </tr>\n",
       "    <tr>\n",
       "      <th>11</th>\n",
       "      <td>Hakaze</td>\n",
       "      <td>246.361364</td>\n",
       "      <td>3853.443182</td>\n",
       "    </tr>\n",
       "    <tr>\n",
       "      <th>12</th>\n",
       "      <td>Jinpu</td>\n",
       "      <td>412.306364</td>\n",
       "      <td>4265.749545</td>\n",
       "    </tr>\n",
       "    <tr>\n",
       "      <th>13</th>\n",
       "      <td>Gekko</td>\n",
       "      <td>565.486364</td>\n",
       "      <td>4831.235909</td>\n",
       "    </tr>\n",
       "    <tr>\n",
       "      <th>14</th>\n",
       "      <td>Hakaze</td>\n",
       "      <td>246.361364</td>\n",
       "      <td>5077.597273</td>\n",
       "    </tr>\n",
       "    <tr>\n",
       "      <th>15</th>\n",
       "      <td>Jinpu</td>\n",
       "      <td>412.306364</td>\n",
       "      <td>5489.903636</td>\n",
       "    </tr>\n",
       "  </tbody>\n",
       "</table>\n",
       "</div>"
      ],
      "text/plain": [
       "       action     potency  total potency\n",
       "0      Hakaze  150.000000     150.000000\n",
       "1       Shifu  280.000000     430.000000\n",
       "2      Hakaze  166.500000     596.500000\n",
       "3       Jinpu  310.800000     907.300000\n",
       "4       Gekko  510.600000    1417.900000\n",
       "5   Higanbana  306.360000    1724.260000\n",
       "6      Hakaze  246.361364    1970.621364\n",
       "7       Jinpu  412.306364    2382.927727\n",
       "8       Gekko  565.486364    2948.414091\n",
       "9      Hakaze  246.361364    3194.775455\n",
       "10      Shifu  412.306364    3607.081818\n",
       "11     Hakaze  246.361364    3853.443182\n",
       "12      Jinpu  412.306364    4265.749545\n",
       "13      Gekko  565.486364    4831.235909\n",
       "14     Hakaze  246.361364    5077.597273\n",
       "15      Jinpu  412.306364    5489.903636"
      ]
     },
     "metadata": {},
     "output_type": "display_data"
    }
   ],
   "source": [
    "df3_ext2 = pd.DataFrame(actions, columns=['action', 'potency'])\n",
    "df3_ext2['total potency'] = df3_ext2['potency'].cumsum(axis=0)\n",
    "display(df3_ext2)"
   ]
  },
  {
   "cell_type": "code",
   "execution_count": 144,
   "metadata": {
    "collapsed": false
   },
   "outputs": [
    {
     "data": {
      "image/png": "[encoded data removed]",
      "text/plain": [
       "<matplotlib.figure.Figure at 0xcb23eb8>"
      ]
     },
     "metadata": {},
     "output_type": "display_data"
    }
   ],
   "source": [
    "compare_potencies([df3_ext, df3_ext2], ['With Higanbana and clipping', 'With Higanbana, no clipping'])"
   ]
  },
  {
   "cell_type": "markdown",
   "metadata": {},
   "source": [
    "### Note the label swapped for the case with clipping. It's fairly close over this time horizon. Regardless if you clip Higanbana or not, it is better than not using Higanbana at all, as shown by the previous graphic."
   ]
  },
  {
   "cell_type": "markdown",
   "metadata": {
    "collapsed": true
   },
   "source": [
    "### Level 35 introduces an AoE combo with Mangetsu (combo from Fuga). This weaponskill also opens the Getsu Sen. Due to the diminishing AoE scaling, this combo is an average of no less than 100 potency per target over two GCDs. Because Mangetsu opens the Getsu Sen, this allows you to apply Higanbana to individual targets in the group. Depending on group size and encounter duration, this may be optimal. \n",
    "\n",
    "### Quick napkin math indicates that groups of 5 or larger may be the decision boundary. At five targets, the AoE combo averages $500+200*(1+0.9+0.8+0.7+0.6)=1300/2=650$ potency per GCD. This is equivalent to about 12-13 DoT ticks from Higanbana, or approximately 36-42 seconds after Higanbana application, depending on server ticks. That is typically longer than most pulls. Let's examine it."
   ]
  },
  {
   "cell_type": "code",
   "execution_count": 145,
   "metadata": {
    "collapsed": false
   },
   "outputs": [],
   "source": [
    "sam = Samurai()\n",
    "\n",
    "n_targets = 5\n",
    "\n",
    "actions = [('Fuga', sam.fuga(n_targets)),\n",
    "           ('Mangetsu', sam.mangetsu(n_targets)),\n",
    "           ('Higanbana', sam.higanbana()),\n",
    "           ('Fuga', sam.fuga(n_targets)+sam.higanbana_dot()),\n",
    "           ('Mangetsu', sam.mangetsu(n_targets)+sam.higanbana_dot()),\n",
    "           ('Higanbana', sam.higanbana()+sam.higanbana_dot()),\n",
    "           ('Fuga', sam.fuga(n_targets)+2*sam.higanbana_dot()),\n",
    "           ('Mangetsu', sam.mangetsu(n_targets)+2*sam.higanbana_dot()),\n",
    "           ('Higanbana', sam.higanbana()+2*sam.higanbana_dot()),\n",
    "           ('Fuga', sam.fuga(n_targets)+3*sam.higanbana_dot()),\n",
    "           ('Mangetsu', sam.mangetsu(n_targets)+3*sam.higanbana_dot()),\n",
    "           ('Higanbana', sam.higanbana()+3*sam.higanbana_dot()),\n",
    "           ('Fuga', sam.fuga(n_targets)+4*sam.higanbana_dot()),\n",
    "           ('Mangetsu', sam.mangetsu(n_targets)+4*sam.higanbana_dot())]"
   ]
  },
  {
   "cell_type": "code",
   "execution_count": 146,
   "metadata": {
    "collapsed": false
   },
   "outputs": [
    {
     "data": {
      "text/html": [
       "<div>\n",
       "<table border=\"1\" class=\"dataframe\">\n",
       "  <thead>\n",
       "    <tr style=\"text-align: right;\">\n",
       "      <th></th>\n",
       "      <th>action</th>\n",
       "      <th>potency</th>\n",
       "      <th>total potency</th>\n",
       "    </tr>\n",
       "  </thead>\n",
       "  <tbody>\n",
       "    <tr>\n",
       "      <th>0</th>\n",
       "      <td>Fuga</td>\n",
       "      <td>500.000000</td>\n",
       "      <td>500.000000</td>\n",
       "    </tr>\n",
       "    <tr>\n",
       "      <th>1</th>\n",
       "      <td>Mangetsu</td>\n",
       "      <td>800.000000</td>\n",
       "      <td>1300.000000</td>\n",
       "    </tr>\n",
       "    <tr>\n",
       "      <th>2</th>\n",
       "      <td>Higanbana</td>\n",
       "      <td>240.000000</td>\n",
       "      <td>1540.000000</td>\n",
       "    </tr>\n",
       "    <tr>\n",
       "      <th>3</th>\n",
       "      <td>Fuga</td>\n",
       "      <td>547.727273</td>\n",
       "      <td>2087.727273</td>\n",
       "    </tr>\n",
       "    <tr>\n",
       "      <th>4</th>\n",
       "      <td>Mangetsu</td>\n",
       "      <td>847.727273</td>\n",
       "      <td>2935.454545</td>\n",
       "    </tr>\n",
       "    <tr>\n",
       "      <th>5</th>\n",
       "      <td>Higanbana</td>\n",
       "      <td>287.727273</td>\n",
       "      <td>3223.181818</td>\n",
       "    </tr>\n",
       "    <tr>\n",
       "      <th>6</th>\n",
       "      <td>Fuga</td>\n",
       "      <td>595.454545</td>\n",
       "      <td>3818.636364</td>\n",
       "    </tr>\n",
       "    <tr>\n",
       "      <th>7</th>\n",
       "      <td>Mangetsu</td>\n",
       "      <td>895.454545</td>\n",
       "      <td>4714.090909</td>\n",
       "    </tr>\n",
       "    <tr>\n",
       "      <th>8</th>\n",
       "      <td>Higanbana</td>\n",
       "      <td>335.454545</td>\n",
       "      <td>5049.545455</td>\n",
       "    </tr>\n",
       "    <tr>\n",
       "      <th>9</th>\n",
       "      <td>Fuga</td>\n",
       "      <td>643.181818</td>\n",
       "      <td>5692.727273</td>\n",
       "    </tr>\n",
       "    <tr>\n",
       "      <th>10</th>\n",
       "      <td>Mangetsu</td>\n",
       "      <td>943.181818</td>\n",
       "      <td>6635.909091</td>\n",
       "    </tr>\n",
       "    <tr>\n",
       "      <th>11</th>\n",
       "      <td>Higanbana</td>\n",
       "      <td>383.181818</td>\n",
       "      <td>7019.090909</td>\n",
       "    </tr>\n",
       "    <tr>\n",
       "      <th>12</th>\n",
       "      <td>Fuga</td>\n",
       "      <td>690.909091</td>\n",
       "      <td>7710.000000</td>\n",
       "    </tr>\n",
       "    <tr>\n",
       "      <th>13</th>\n",
       "      <td>Mangetsu</td>\n",
       "      <td>990.909091</td>\n",
       "      <td>8700.909091</td>\n",
       "    </tr>\n",
       "  </tbody>\n",
       "</table>\n",
       "</div>"
      ],
      "text/plain": [
       "       action     potency  total potency\n",
       "0        Fuga  500.000000     500.000000\n",
       "1    Mangetsu  800.000000    1300.000000\n",
       "2   Higanbana  240.000000    1540.000000\n",
       "3        Fuga  547.727273    2087.727273\n",
       "4    Mangetsu  847.727273    2935.454545\n",
       "5   Higanbana  287.727273    3223.181818\n",
       "6        Fuga  595.454545    3818.636364\n",
       "7    Mangetsu  895.454545    4714.090909\n",
       "8   Higanbana  335.454545    5049.545455\n",
       "9        Fuga  643.181818    5692.727273\n",
       "10   Mangetsu  943.181818    6635.909091\n",
       "11  Higanbana  383.181818    7019.090909\n",
       "12       Fuga  690.909091    7710.000000\n",
       "13   Mangetsu  990.909091    8700.909091"
      ]
     },
     "metadata": {},
     "output_type": "display_data"
    }
   ],
   "source": [
    "df4 = pd.DataFrame(actions, columns=['action', 'potency'])\n",
    "df4['total potency'] = df4['potency'].cumsum(axis=0)\n",
    "display(df4)"
   ]
  },
  {
   "cell_type": "code",
   "execution_count": 147,
   "metadata": {
    "collapsed": false
   },
   "outputs": [],
   "source": [
    "sam = Samurai()\n",
    "\n",
    "n_targets = 5\n",
    "\n",
    "actions = [('Fuga', sam.fuga(n_targets)),\n",
    "           ('Mangetsu', sam.mangetsu(n_targets)),\n",
    "           ('Fuga', sam.fuga(n_targets)),\n",
    "           ('Mangetsu', sam.mangetsu(n_targets)),\n",
    "           ('Fuga', sam.fuga(n_targets)),\n",
    "           ('Mangetsu', sam.mangetsu(n_targets)),\n",
    "           ('Fuga', sam.fuga(n_targets)),\n",
    "           ('Mangetsu', sam.mangetsu(n_targets)),\n",
    "           ('Fuga', sam.fuga(n_targets)),\n",
    "           ('Mangetsu', sam.mangetsu(n_targets)),\n",
    "           ('Fuga', sam.fuga(n_targets)),\n",
    "           ('Mangetsu', sam.mangetsu(n_targets)),\n",
    "           ('Fuga', sam.fuga(n_targets)),\n",
    "           ('Mangetsu', sam.mangetsu(n_targets))]"
   ]
  },
  {
   "cell_type": "code",
   "execution_count": 148,
   "metadata": {
    "collapsed": false
   },
   "outputs": [
    {
     "data": {
      "text/html": [
       "<div>\n",
       "<table border=\"1\" class=\"dataframe\">\n",
       "  <thead>\n",
       "    <tr style=\"text-align: right;\">\n",
       "      <th></th>\n",
       "      <th>action</th>\n",
       "      <th>potency</th>\n",
       "      <th>total potency</th>\n",
       "    </tr>\n",
       "  </thead>\n",
       "  <tbody>\n",
       "    <tr>\n",
       "      <th>0</th>\n",
       "      <td>Fuga</td>\n",
       "      <td>500.0</td>\n",
       "      <td>500.0</td>\n",
       "    </tr>\n",
       "    <tr>\n",
       "      <th>1</th>\n",
       "      <td>Mangetsu</td>\n",
       "      <td>800.0</td>\n",
       "      <td>1300.0</td>\n",
       "    </tr>\n",
       "    <tr>\n",
       "      <th>2</th>\n",
       "      <td>Fuga</td>\n",
       "      <td>500.0</td>\n",
       "      <td>1800.0</td>\n",
       "    </tr>\n",
       "    <tr>\n",
       "      <th>3</th>\n",
       "      <td>Mangetsu</td>\n",
       "      <td>800.0</td>\n",
       "      <td>2600.0</td>\n",
       "    </tr>\n",
       "    <tr>\n",
       "      <th>4</th>\n",
       "      <td>Fuga</td>\n",
       "      <td>500.0</td>\n",
       "      <td>3100.0</td>\n",
       "    </tr>\n",
       "    <tr>\n",
       "      <th>5</th>\n",
       "      <td>Mangetsu</td>\n",
       "      <td>800.0</td>\n",
       "      <td>3900.0</td>\n",
       "    </tr>\n",
       "    <tr>\n",
       "      <th>6</th>\n",
       "      <td>Fuga</td>\n",
       "      <td>500.0</td>\n",
       "      <td>4400.0</td>\n",
       "    </tr>\n",
       "    <tr>\n",
       "      <th>7</th>\n",
       "      <td>Mangetsu</td>\n",
       "      <td>800.0</td>\n",
       "      <td>5200.0</td>\n",
       "    </tr>\n",
       "    <tr>\n",
       "      <th>8</th>\n",
       "      <td>Fuga</td>\n",
       "      <td>500.0</td>\n",
       "      <td>5700.0</td>\n",
       "    </tr>\n",
       "    <tr>\n",
       "      <th>9</th>\n",
       "      <td>Mangetsu</td>\n",
       "      <td>800.0</td>\n",
       "      <td>6500.0</td>\n",
       "    </tr>\n",
       "    <tr>\n",
       "      <th>10</th>\n",
       "      <td>Fuga</td>\n",
       "      <td>500.0</td>\n",
       "      <td>7000.0</td>\n",
       "    </tr>\n",
       "    <tr>\n",
       "      <th>11</th>\n",
       "      <td>Mangetsu</td>\n",
       "      <td>800.0</td>\n",
       "      <td>7800.0</td>\n",
       "    </tr>\n",
       "    <tr>\n",
       "      <th>12</th>\n",
       "      <td>Fuga</td>\n",
       "      <td>500.0</td>\n",
       "      <td>8300.0</td>\n",
       "    </tr>\n",
       "    <tr>\n",
       "      <th>13</th>\n",
       "      <td>Mangetsu</td>\n",
       "      <td>800.0</td>\n",
       "      <td>9100.0</td>\n",
       "    </tr>\n",
       "  </tbody>\n",
       "</table>\n",
       "</div>"
      ],
      "text/plain": [
       "      action  potency  total potency\n",
       "0       Fuga    500.0          500.0\n",
       "1   Mangetsu    800.0         1300.0\n",
       "2       Fuga    500.0         1800.0\n",
       "3   Mangetsu    800.0         2600.0\n",
       "4       Fuga    500.0         3100.0\n",
       "5   Mangetsu    800.0         3900.0\n",
       "6       Fuga    500.0         4400.0\n",
       "7   Mangetsu    800.0         5200.0\n",
       "8       Fuga    500.0         5700.0\n",
       "9   Mangetsu    800.0         6500.0\n",
       "10      Fuga    500.0         7000.0\n",
       "11  Mangetsu    800.0         7800.0\n",
       "12      Fuga    500.0         8300.0\n",
       "13  Mangetsu    800.0         9100.0"
      ]
     },
     "metadata": {},
     "output_type": "display_data"
    }
   ],
   "source": [
    "df4_2 = pd.DataFrame(actions, columns=['action', 'potency'])\n",
    "df4_2['total potency'] = df4_2['potency'].cumsum(axis=0)\n",
    "display(df4_2)"
   ]
  },
  {
   "cell_type": "code",
   "execution_count": 149,
   "metadata": {
    "collapsed": false
   },
   "outputs": [
    {
     "data": {
      "image/png": "[encoded data removed]",
      "text/plain": [
       "<matplotlib.figure.Figure at 0xc863be0>"
      ]
     },
     "metadata": {},
     "output_type": "display_data"
    }
   ],
   "source": [
    "compare_potencies([df4_2, df4], ['No Higanbana', 'With Higanbana'])"
   ]
  },
  {
   "cell_type": "markdown",
   "metadata": {},
   "source": [
    "### Given a long enough encounter, the gap may close. This gap will further increase for larger packs. How do smaller packs fare?"
   ]
  },
  {
   "cell_type": "code",
   "execution_count": 150,
   "metadata": {
    "collapsed": true
   },
   "outputs": [],
   "source": [
    "sam = Samurai()\n",
    "\n",
    "n_targets = 4\n",
    "\n",
    "actions = [('Fuga', sam.fuga(n_targets)),\n",
    "           ('Mangetsu', sam.mangetsu(n_targets)),\n",
    "           ('Higanbana', sam.higanbana()),\n",
    "           ('Fuga', sam.fuga(n_targets)+sam.higanbana_dot()),\n",
    "           ('Mangetsu', sam.mangetsu(n_targets)+sam.higanbana_dot()),\n",
    "           ('Higanbana', sam.higanbana()+sam.higanbana_dot()),\n",
    "           ('Fuga', sam.fuga(n_targets)+2*sam.higanbana_dot()),\n",
    "           ('Mangetsu', sam.mangetsu(n_targets)+2*sam.higanbana_dot()),\n",
    "           ('Higanbana', sam.higanbana()+2*sam.higanbana_dot()),\n",
    "           ('Fuga', sam.fuga(n_targets)+3*sam.higanbana_dot()),\n",
    "           ('Mangetsu', sam.mangetsu(n_targets)+3*sam.higanbana_dot()),\n",
    "           ('Higanbana', sam.higanbana()+3*sam.higanbana_dot()),\n",
    "           ('Fuga', sam.fuga(n_targets)+4*sam.higanbana_dot()),\n",
    "           ('Mangetsu', sam.mangetsu(n_targets)+4*sam.higanbana_dot())]\n",
    "\n",
    "df4_4 = pd.DataFrame(actions, columns=['action', 'potency'])\n",
    "df4_4['total potency'] = df4_4['potency'].cumsum(axis=0)"
   ]
  },
  {
   "cell_type": "code",
   "execution_count": 151,
   "metadata": {
    "collapsed": true
   },
   "outputs": [],
   "source": [
    "sam = Samurai()\n",
    "\n",
    "n_targets = 4\n",
    "\n",
    "actions = [('Fuga', sam.fuga(n_targets)),\n",
    "           ('Mangetsu', sam.mangetsu(n_targets)),\n",
    "           ('Fuga', sam.fuga(n_targets)),\n",
    "           ('Mangetsu', sam.mangetsu(n_targets)),\n",
    "           ('Fuga', sam.fuga(n_targets)),\n",
    "           ('Mangetsu', sam.mangetsu(n_targets)),\n",
    "           ('Fuga', sam.fuga(n_targets)),\n",
    "           ('Mangetsu', sam.mangetsu(n_targets)),\n",
    "           ('Fuga', sam.fuga(n_targets)),\n",
    "           ('Mangetsu', sam.mangetsu(n_targets)),\n",
    "           ('Fuga', sam.fuga(n_targets)),\n",
    "           ('Mangetsu', sam.mangetsu(n_targets)),\n",
    "           ('Fuga', sam.fuga(n_targets)),\n",
    "           ('Mangetsu', sam.mangetsu(n_targets))]\n",
    "\n",
    "df4_4_no_sen = pd.DataFrame(actions, columns=['action', 'potency'])\n",
    "df4_4_no_sen['total potency'] = df4_4_no_sen['potency'].cumsum(axis=0)"
   ]
  },
  {
   "cell_type": "code",
   "execution_count": 152,
   "metadata": {
    "collapsed": false
   },
   "outputs": [
    {
     "data": {
      "image/png": "[encoded data removed]",
      "text/plain": [
       "<matplotlib.figure.Figure at 0xd55dba8>"
      ]
     },
     "metadata": {},
     "output_type": "display_data"
    }
   ],
   "source": [
    "compare_potencies([df4_4_no_sen, df4_4], ['No Higanbana', 'With Higanbana'])"
   ]
  },
  {
   "cell_type": "markdown",
   "metadata": {},
   "source": [
    "### With four targets, the gap closed as we applied Higanbana to all targets. We can continue with the Mangetsu combo only after that while reaping the four DoTs. Now with three targets?"
   ]
  },
  {
   "cell_type": "code",
   "execution_count": 153,
   "metadata": {
    "collapsed": false
   },
   "outputs": [],
   "source": [
    "sam = Samurai()\n",
    "\n",
    "n_targets = 3\n",
    "\n",
    "actions = [('Fuga', sam.fuga(n_targets)),\n",
    "           ('Mangetsu', sam.mangetsu(n_targets)),\n",
    "           ('Higanbana', sam.higanbana()),\n",
    "           ('Fuga', sam.fuga(n_targets)+sam.higanbana_dot()),\n",
    "           ('Mangetsu', sam.mangetsu(n_targets)+sam.higanbana_dot()),\n",
    "           ('Higanbana', sam.higanbana()+sam.higanbana_dot()),\n",
    "           ('Fuga', sam.fuga(n_targets)+2*sam.higanbana_dot()),\n",
    "           ('Mangetsu', sam.mangetsu(n_targets)+2*sam.higanbana_dot()),\n",
    "           ('Higanbana', sam.higanbana()+2*sam.higanbana_dot()),\n",
    "           ('Fuga', sam.fuga(n_targets)+3*sam.higanbana_dot()),\n",
    "           ('Mangetsu', sam.mangetsu(n_targets)+3*sam.higanbana_dot()),\n",
    "           ('Fuga', sam.fuga(n_targets)+3*sam.higanbana_dot()),\n",
    "           ('Mangetsu', sam.mangetsu(n_targets)+3*sam.higanbana_dot()),\n",
    "           ('Fuga', sam.fuga(n_targets)+3*sam.higanbana_dot())]\n",
    "\n",
    "df4_3 = pd.DataFrame(actions, columns=['action', 'potency'])\n",
    "df4_3['total potency'] = df4_3['potency'].cumsum(axis=0)"
   ]
  },
  {
   "cell_type": "code",
   "execution_count": 154,
   "metadata": {
    "collapsed": true
   },
   "outputs": [],
   "source": [
    "sam = Samurai()\n",
    "\n",
    "n_targets = 3\n",
    "\n",
    "actions = [('Fuga', sam.fuga(n_targets)),\n",
    "           ('Mangetsu', sam.mangetsu(n_targets)),\n",
    "           ('Fuga', sam.fuga(n_targets)),\n",
    "           ('Mangetsu', sam.mangetsu(n_targets)),\n",
    "           ('Fuga', sam.fuga(n_targets)),\n",
    "           ('Mangetsu', sam.mangetsu(n_targets)),\n",
    "           ('Fuga', sam.fuga(n_targets)),\n",
    "           ('Mangetsu', sam.mangetsu(n_targets)),\n",
    "           ('Fuga', sam.fuga(n_targets)),\n",
    "           ('Mangetsu', sam.mangetsu(n_targets)),\n",
    "           ('Fuga', sam.fuga(n_targets)),\n",
    "           ('Mangetsu', sam.mangetsu(n_targets)),\n",
    "           ('Fuga', sam.fuga(n_targets)),\n",
    "           ('Mangetsu', sam.mangetsu(n_targets))]\n",
    "\n",
    "df4_3_no_sen = pd.DataFrame(actions, columns=['action', 'potency'])\n",
    "df4_3_no_sen['total potency'] = df4_3_no_sen['potency'].cumsum(axis=0)"
   ]
  },
  {
   "cell_type": "code",
   "execution_count": 155,
   "metadata": {
    "collapsed": false
   },
   "outputs": [
    {
     "data": {
      "image/png": "[encoded data removed]",
      "text/plain": [
       "<matplotlib.figure.Figure at 0x1082dac8>"
      ]
     },
     "metadata": {},
     "output_type": "display_data"
    }
   ],
   "source": [
    "compare_potencies([df4_3_no_sen, df4_3], ['No Higanbana', 'With Higanbana'])"
   ]
  },
  {
   "cell_type": "markdown",
   "metadata": {},
   "source": [
    "### Here we see using Higanbana pull ahead. Since this is the typical pull size for leveling dungeons, this is likely optimal at this level range. Should we buff with Jinpu and Shifu before executing this rotation?"
   ]
  },
  {
   "cell_type": "code",
   "execution_count": 156,
   "metadata": {
    "collapsed": false
   },
   "outputs": [
    {
     "data": {
      "text/html": [
       "<div>\n",
       "<table border=\"1\" class=\"dataframe\">\n",
       "  <thead>\n",
       "    <tr style=\"text-align: right;\">\n",
       "      <th></th>\n",
       "      <th>action</th>\n",
       "      <th>potency</th>\n",
       "      <th>total potency</th>\n",
       "    </tr>\n",
       "  </thead>\n",
       "  <tbody>\n",
       "    <tr>\n",
       "      <th>0</th>\n",
       "      <td>Hakaze</td>\n",
       "      <td>150.000000</td>\n",
       "      <td>150.000000</td>\n",
       "    </tr>\n",
       "    <tr>\n",
       "      <th>1</th>\n",
       "      <td>Shifu</td>\n",
       "      <td>280.000000</td>\n",
       "      <td>430.000000</td>\n",
       "    </tr>\n",
       "    <tr>\n",
       "      <th>2</th>\n",
       "      <td>Hakaze</td>\n",
       "      <td>166.500000</td>\n",
       "      <td>596.500000</td>\n",
       "    </tr>\n",
       "    <tr>\n",
       "      <th>3</th>\n",
       "      <td>Jinpu</td>\n",
       "      <td>310.800000</td>\n",
       "      <td>907.300000</td>\n",
       "    </tr>\n",
       "    <tr>\n",
       "      <th>4</th>\n",
       "      <td>Fuga</td>\n",
       "      <td>382.950000</td>\n",
       "      <td>1290.250000</td>\n",
       "    </tr>\n",
       "    <tr>\n",
       "      <th>5</th>\n",
       "      <td>Mangetsu</td>\n",
       "      <td>689.310000</td>\n",
       "      <td>1979.560000</td>\n",
       "    </tr>\n",
       "    <tr>\n",
       "      <th>6</th>\n",
       "      <td>Higanbana</td>\n",
       "      <td>306.360000</td>\n",
       "      <td>2285.920000</td>\n",
       "    </tr>\n",
       "    <tr>\n",
       "      <th>7</th>\n",
       "      <td>Fuga</td>\n",
       "      <td>437.836364</td>\n",
       "      <td>2723.756364</td>\n",
       "    </tr>\n",
       "    <tr>\n",
       "      <th>8</th>\n",
       "      <td>Mangetsu</td>\n",
       "      <td>744.196364</td>\n",
       "      <td>3467.952727</td>\n",
       "    </tr>\n",
       "    <tr>\n",
       "      <th>9</th>\n",
       "      <td>Higanbana</td>\n",
       "      <td>361.246364</td>\n",
       "      <td>3829.199091</td>\n",
       "    </tr>\n",
       "    <tr>\n",
       "      <th>10</th>\n",
       "      <td>Fuga</td>\n",
       "      <td>492.722727</td>\n",
       "      <td>4321.921818</td>\n",
       "    </tr>\n",
       "    <tr>\n",
       "      <th>11</th>\n",
       "      <td>Mangetsu</td>\n",
       "      <td>799.082727</td>\n",
       "      <td>5121.004545</td>\n",
       "    </tr>\n",
       "    <tr>\n",
       "      <th>12</th>\n",
       "      <td>Higanbana</td>\n",
       "      <td>416.132727</td>\n",
       "      <td>5537.137273</td>\n",
       "    </tr>\n",
       "    <tr>\n",
       "      <th>13</th>\n",
       "      <td>Fuga</td>\n",
       "      <td>547.609091</td>\n",
       "      <td>6084.746364</td>\n",
       "    </tr>\n",
       "    <tr>\n",
       "      <th>14</th>\n",
       "      <td>Mangetsu</td>\n",
       "      <td>853.969091</td>\n",
       "      <td>6938.715455</td>\n",
       "    </tr>\n",
       "  </tbody>\n",
       "</table>\n",
       "</div>"
      ],
      "text/plain": [
       "       action     potency  total potency\n",
       "0      Hakaze  150.000000     150.000000\n",
       "1       Shifu  280.000000     430.000000\n",
       "2      Hakaze  166.500000     596.500000\n",
       "3       Jinpu  310.800000     907.300000\n",
       "4        Fuga  382.950000    1290.250000\n",
       "5    Mangetsu  689.310000    1979.560000\n",
       "6   Higanbana  306.360000    2285.920000\n",
       "7        Fuga  437.836364    2723.756364\n",
       "8    Mangetsu  744.196364    3467.952727\n",
       "9   Higanbana  361.246364    3829.199091\n",
       "10       Fuga  492.722727    4321.921818\n",
       "11   Mangetsu  799.082727    5121.004545\n",
       "12  Higanbana  416.132727    5537.137273\n",
       "13       Fuga  547.609091    6084.746364\n",
       "14   Mangetsu  853.969091    6938.715455"
      ]
     },
     "metadata": {},
     "output_type": "display_data"
    }
   ],
   "source": [
    "sam = Samurai()\n",
    "\n",
    "n_targets = 3\n",
    "\n",
    "actions = [('Hakaze', sam.hakaze()),\n",
    "           ('Shifu', sam.shifu()),\n",
    "           ('Hakaze', sam.hakaze()),\n",
    "           ('Jinpu', sam.jinpu()),\n",
    "           ('Fuga', sam.fuga(n_targets)),\n",
    "           ('Mangetsu', sam.mangetsu(n_targets)),\n",
    "           ('Higanbana', sam.higanbana()),\n",
    "           ('Fuga', sam.fuga(n_targets)+sam.higanbana_dot()),\n",
    "           ('Mangetsu', sam.mangetsu(n_targets)+sam.higanbana_dot()),\n",
    "           ('Higanbana', sam.higanbana()+sam.higanbana_dot()),\n",
    "           ('Fuga', sam.fuga(n_targets)+2*sam.higanbana_dot()),\n",
    "           ('Mangetsu', sam.mangetsu(n_targets)+2*sam.higanbana_dot()),\n",
    "           ('Higanbana', sam.higanbana()+2*sam.higanbana_dot()),\n",
    "           ('Fuga', sam.fuga(n_targets)+3*sam.higanbana_dot()),\n",
    "           ('Mangetsu', sam.mangetsu(n_targets)+3*sam.higanbana_dot())]\n",
    "\n",
    "df4_3_buff = pd.DataFrame(actions, columns=['action', 'potency'])\n",
    "df4_3_buff['total potency'] = df4_3_buff['potency'].cumsum(axis=0)\n",
    "display(df4_3_buff)"
   ]
  },
  {
   "cell_type": "code",
   "execution_count": 157,
   "metadata": {
    "collapsed": false
   },
   "outputs": [
    {
     "data": {
      "text/html": [
       "<div>\n",
       "<table border=\"1\" class=\"dataframe\">\n",
       "  <thead>\n",
       "    <tr style=\"text-align: right;\">\n",
       "      <th></th>\n",
       "      <th>action</th>\n",
       "      <th>potency</th>\n",
       "      <th>total potency</th>\n",
       "    </tr>\n",
       "  </thead>\n",
       "  <tbody>\n",
       "    <tr>\n",
       "      <th>0</th>\n",
       "      <td>Fuga</td>\n",
       "      <td>300.000000</td>\n",
       "      <td>300.000000</td>\n",
       "    </tr>\n",
       "    <tr>\n",
       "      <th>1</th>\n",
       "      <td>Mangetsu</td>\n",
       "      <td>540.000000</td>\n",
       "      <td>840.000000</td>\n",
       "    </tr>\n",
       "    <tr>\n",
       "      <th>2</th>\n",
       "      <td>Higanbana</td>\n",
       "      <td>240.000000</td>\n",
       "      <td>1080.000000</td>\n",
       "    </tr>\n",
       "    <tr>\n",
       "      <th>3</th>\n",
       "      <td>Fuga</td>\n",
       "      <td>347.727273</td>\n",
       "      <td>1427.727273</td>\n",
       "    </tr>\n",
       "    <tr>\n",
       "      <th>4</th>\n",
       "      <td>Mangetsu</td>\n",
       "      <td>587.727273</td>\n",
       "      <td>2015.454545</td>\n",
       "    </tr>\n",
       "    <tr>\n",
       "      <th>5</th>\n",
       "      <td>Higanbana</td>\n",
       "      <td>287.727273</td>\n",
       "      <td>2303.181818</td>\n",
       "    </tr>\n",
       "    <tr>\n",
       "      <th>6</th>\n",
       "      <td>Fuga</td>\n",
       "      <td>395.454545</td>\n",
       "      <td>2698.636364</td>\n",
       "    </tr>\n",
       "    <tr>\n",
       "      <th>7</th>\n",
       "      <td>Mangetsu</td>\n",
       "      <td>635.454545</td>\n",
       "      <td>3334.090909</td>\n",
       "    </tr>\n",
       "    <tr>\n",
       "      <th>8</th>\n",
       "      <td>Higanbana</td>\n",
       "      <td>335.454545</td>\n",
       "      <td>3669.545455</td>\n",
       "    </tr>\n",
       "    <tr>\n",
       "      <th>9</th>\n",
       "      <td>Fuga</td>\n",
       "      <td>443.181818</td>\n",
       "      <td>4112.727273</td>\n",
       "    </tr>\n",
       "    <tr>\n",
       "      <th>10</th>\n",
       "      <td>Mangetsu</td>\n",
       "      <td>683.181818</td>\n",
       "      <td>4795.909091</td>\n",
       "    </tr>\n",
       "    <tr>\n",
       "      <th>11</th>\n",
       "      <td>Fuga</td>\n",
       "      <td>443.181818</td>\n",
       "      <td>5239.090909</td>\n",
       "    </tr>\n",
       "    <tr>\n",
       "      <th>12</th>\n",
       "      <td>Mangetsu</td>\n",
       "      <td>683.181818</td>\n",
       "      <td>5922.272727</td>\n",
       "    </tr>\n",
       "    <tr>\n",
       "      <th>13</th>\n",
       "      <td>Fuga</td>\n",
       "      <td>443.181818</td>\n",
       "      <td>6365.454545</td>\n",
       "    </tr>\n",
       "    <tr>\n",
       "      <th>14</th>\n",
       "      <td>Mangetsu</td>\n",
       "      <td>683.181818</td>\n",
       "      <td>7048.636364</td>\n",
       "    </tr>\n",
       "  </tbody>\n",
       "</table>\n",
       "</div>"
      ],
      "text/plain": [
       "       action     potency  total potency\n",
       "0        Fuga  300.000000     300.000000\n",
       "1    Mangetsu  540.000000     840.000000\n",
       "2   Higanbana  240.000000    1080.000000\n",
       "3        Fuga  347.727273    1427.727273\n",
       "4    Mangetsu  587.727273    2015.454545\n",
       "5   Higanbana  287.727273    2303.181818\n",
       "6        Fuga  395.454545    2698.636364\n",
       "7    Mangetsu  635.454545    3334.090909\n",
       "8   Higanbana  335.454545    3669.545455\n",
       "9        Fuga  443.181818    4112.727273\n",
       "10   Mangetsu  683.181818    4795.909091\n",
       "11       Fuga  443.181818    5239.090909\n",
       "12   Mangetsu  683.181818    5922.272727\n",
       "13       Fuga  443.181818    6365.454545\n",
       "14   Mangetsu  683.181818    7048.636364"
      ]
     },
     "metadata": {},
     "output_type": "display_data"
    }
   ],
   "source": [
    "sam = Samurai()\n",
    "\n",
    "n_targets = 3\n",
    "\n",
    "actions = [('Fuga', sam.fuga(n_targets)),\n",
    "           ('Mangetsu', sam.mangetsu(n_targets)),\n",
    "           ('Higanbana', sam.higanbana()),\n",
    "           ('Fuga', sam.fuga(n_targets)+sam.higanbana_dot()),\n",
    "           ('Mangetsu', sam.mangetsu(n_targets)+sam.higanbana_dot()),\n",
    "           ('Higanbana', sam.higanbana()+sam.higanbana_dot()),\n",
    "           ('Fuga', sam.fuga(n_targets)+2*sam.higanbana_dot()),\n",
    "           ('Mangetsu', sam.mangetsu(n_targets)+2*sam.higanbana_dot()),\n",
    "           ('Higanbana', sam.higanbana()+2*sam.higanbana_dot()),\n",
    "           ('Fuga', sam.fuga(n_targets)+3*sam.higanbana_dot()),\n",
    "           ('Mangetsu', sam.mangetsu(n_targets)+3*sam.higanbana_dot()),\n",
    "           ('Fuga', sam.fuga(n_targets)+3*sam.higanbana_dot()),\n",
    "           ('Mangetsu', sam.mangetsu(n_targets)+3*sam.higanbana_dot()),\n",
    "           ('Fuga', sam.fuga(n_targets)+3*sam.higanbana_dot()),\n",
    "           ('Mangetsu', sam.mangetsu(n_targets)+3*sam.higanbana_dot())]\n",
    "\n",
    "df4_3_nobuff = pd.DataFrame(actions, columns=['action', 'potency'])\n",
    "df4_3_nobuff['total potency'] = df4_3_nobuff['potency'].cumsum(axis=0)\n",
    "display(df4_3_nobuff)"
   ]
  },
  {
   "cell_type": "code",
   "execution_count": 158,
   "metadata": {
    "collapsed": false
   },
   "outputs": [
    {
     "data": {
      "image/png": "[encoded data removed]",
      "text/plain": [
       "<matplotlib.figure.Figure at 0xd21ffd0>"
      ]
     },
     "metadata": {},
     "output_type": "display_data"
    }
   ],
   "source": [
    "compare_potencies([df4_3_nobuff, df4_3_buff], ['No buffs', 'With buffs'])"
   ]
  },
  {
   "cell_type": "markdown",
   "metadata": {},
   "source": [
    "### It's very close. Here we neglected to refresh Shifu which would further widen the gap in favor of no buffs. Ideally, you would shift to a single target rotation as mobs die, possibly letting you refresh buffs that carry over to the next pull. "
   ]
  },
  {
   "cell_type": "markdown",
   "metadata": {},
   "source": [
    "### Priority: Shifu > Jinpu\n",
    "### Filler: Gekko combo > Higanbana\n",
    "### AoE: Mangetsu combo + Higanbana, depending on group size and encounter duration"
   ]
  },
  {
   "cell_type": "markdown",
   "metadata": {},
   "source": [
    "## lvl 40-49 rotation"
   ]
  },
  {
   "cell_type": "markdown",
   "metadata": {},
   "source": [
    "### Level 40 introduces the Kasha combo finisher (combo from Shifu). Equal in potency to the Gekko finisher, this weaponskill when combod opens the Ka Sen. This leads to a maximum of two Sen open at any given time and also unlocks the use of the Iaijutsu, Tenka Goken. This powerful, point blank AoE weaponskill scales its potency depending on the number of targets up to a maximum of 360 potency for the first target hit. In AoE situations, this is likely Iaijutsu of choice due to its instantaneous damage but is, once again, subject to target count and encounter duration. Unfortunately, you do not get the AoE weaponskill to open Ka until level 45. But for single target, do we still want to try our shiny new Iaijutsu?"
   ]
  },
  {
   "cell_type": "code",
   "execution_count": 159,
   "metadata": {
    "collapsed": true
   },
   "outputs": [],
   "source": [
    "sam = Samurai()\n",
    "\n",
    "n_targets = 1\n",
    "\n",
    "actions = [('Hakaze', sam.hakaze()),\n",
    "           ('Shifu', sam.shifu()),\n",
    "           ('Kasha', sam.kasha()),\n",
    "           ('Higanbana', sam.higanbana()),\n",
    "           ('Hakaze', sam.hakaze()+sam.higanbana_dot()),\n",
    "           ('Jinpu', sam.jinpu()+sam.higanbana_dot()),\n",
    "           ('Gekko', sam.gekko()+sam.higanbana_dot()),\n",
    "           ('Hakaze', sam.hakaze()+sam.higanbana_dot()),\n",
    "           ('Shifu', sam.jinpu()+sam.higanbana_dot()),\n",
    "           ('Kasha', sam.kasha()+sam.higanbana_dot()),\n",
    "           ('Tenka Goken', sam.tenka_goken(n_targets)+sam.higanbana_dot()),\n",
    "           ('Hakaze', sam.hakaze()+sam.higanbana_dot()),\n",
    "           ('Jinpu', sam.jinpu()+sam.higanbana_dot()),\n",
    "           ('Gekko', sam.gekko()+sam.higanbana_dot()),\n",
    "           ('Hakaze', sam.hakaze()+sam.higanbana_dot()),\n",
    "           ('Shifu', sam.jinpu()+sam.higanbana_dot()),\n",
    "           ('Kasha', sam.kasha()+sam.higanbana_dot()),\n",
    "           ('Tenka Goken', sam.tenka_goken(n_targets)+sam.higanbana_dot())]"
   ]
  },
  {
   "cell_type": "code",
   "execution_count": 160,
   "metadata": {
    "collapsed": false
   },
   "outputs": [
    {
     "data": {
      "text/html": [
       "<div>\n",
       "<table border=\"1\" class=\"dataframe\">\n",
       "  <thead>\n",
       "    <tr style=\"text-align: right;\">\n",
       "      <th></th>\n",
       "      <th>action</th>\n",
       "      <th>potency</th>\n",
       "      <th>total potency</th>\n",
       "    </tr>\n",
       "  </thead>\n",
       "  <tbody>\n",
       "    <tr>\n",
       "      <th>0</th>\n",
       "      <td>Hakaze</td>\n",
       "      <td>150.000000</td>\n",
       "      <td>150.000000</td>\n",
       "    </tr>\n",
       "    <tr>\n",
       "      <th>1</th>\n",
       "      <td>Shifu</td>\n",
       "      <td>280.000000</td>\n",
       "      <td>430.000000</td>\n",
       "    </tr>\n",
       "    <tr>\n",
       "      <th>2</th>\n",
       "      <td>Kasha</td>\n",
       "      <td>444.000000</td>\n",
       "      <td>874.000000</td>\n",
       "    </tr>\n",
       "    <tr>\n",
       "      <th>3</th>\n",
       "      <td>Higanbana</td>\n",
       "      <td>266.400000</td>\n",
       "      <td>1140.400000</td>\n",
       "    </tr>\n",
       "    <tr>\n",
       "      <th>4</th>\n",
       "      <td>Hakaze</td>\n",
       "      <td>214.227273</td>\n",
       "      <td>1354.627273</td>\n",
       "    </tr>\n",
       "    <tr>\n",
       "      <th>5</th>\n",
       "      <td>Jinpu</td>\n",
       "      <td>365.686364</td>\n",
       "      <td>1720.313636</td>\n",
       "    </tr>\n",
       "    <tr>\n",
       "      <th>6</th>\n",
       "      <td>Gekko</td>\n",
       "      <td>565.486364</td>\n",
       "      <td>2285.800000</td>\n",
       "    </tr>\n",
       "    <tr>\n",
       "      <th>7</th>\n",
       "      <td>Hakaze</td>\n",
       "      <td>246.361364</td>\n",
       "      <td>2532.161364</td>\n",
       "    </tr>\n",
       "    <tr>\n",
       "      <th>8</th>\n",
       "      <td>Shifu</td>\n",
       "      <td>412.306364</td>\n",
       "      <td>2944.467727</td>\n",
       "    </tr>\n",
       "    <tr>\n",
       "      <th>9</th>\n",
       "      <td>Kasha</td>\n",
       "      <td>182.536364</td>\n",
       "      <td>3127.004091</td>\n",
       "    </tr>\n",
       "    <tr>\n",
       "      <th>10</th>\n",
       "      <td>Tenka Goken</td>\n",
       "      <td>514.426364</td>\n",
       "      <td>3641.430455</td>\n",
       "    </tr>\n",
       "    <tr>\n",
       "      <th>11</th>\n",
       "      <td>Hakaze</td>\n",
       "      <td>246.361364</td>\n",
       "      <td>3887.791818</td>\n",
       "    </tr>\n",
       "    <tr>\n",
       "      <th>12</th>\n",
       "      <td>Jinpu</td>\n",
       "      <td>412.306364</td>\n",
       "      <td>4300.098182</td>\n",
       "    </tr>\n",
       "    <tr>\n",
       "      <th>13</th>\n",
       "      <td>Gekko</td>\n",
       "      <td>565.486364</td>\n",
       "      <td>4865.584545</td>\n",
       "    </tr>\n",
       "    <tr>\n",
       "      <th>14</th>\n",
       "      <td>Hakaze</td>\n",
       "      <td>246.361364</td>\n",
       "      <td>5111.945909</td>\n",
       "    </tr>\n",
       "    <tr>\n",
       "      <th>15</th>\n",
       "      <td>Shifu</td>\n",
       "      <td>412.306364</td>\n",
       "      <td>5524.252273</td>\n",
       "    </tr>\n",
       "    <tr>\n",
       "      <th>16</th>\n",
       "      <td>Kasha</td>\n",
       "      <td>182.536364</td>\n",
       "      <td>5706.788636</td>\n",
       "    </tr>\n",
       "    <tr>\n",
       "      <th>17</th>\n",
       "      <td>Tenka Goken</td>\n",
       "      <td>514.426364</td>\n",
       "      <td>6221.215000</td>\n",
       "    </tr>\n",
       "  </tbody>\n",
       "</table>\n",
       "</div>"
      ],
      "text/plain": [
       "         action     potency  total potency\n",
       "0        Hakaze  150.000000     150.000000\n",
       "1         Shifu  280.000000     430.000000\n",
       "2         Kasha  444.000000     874.000000\n",
       "3     Higanbana  266.400000    1140.400000\n",
       "4        Hakaze  214.227273    1354.627273\n",
       "5         Jinpu  365.686364    1720.313636\n",
       "6         Gekko  565.486364    2285.800000\n",
       "7        Hakaze  246.361364    2532.161364\n",
       "8         Shifu  412.306364    2944.467727\n",
       "9         Kasha  182.536364    3127.004091\n",
       "10  Tenka Goken  514.426364    3641.430455\n",
       "11       Hakaze  246.361364    3887.791818\n",
       "12        Jinpu  412.306364    4300.098182\n",
       "13        Gekko  565.486364    4865.584545\n",
       "14       Hakaze  246.361364    5111.945909\n",
       "15        Shifu  412.306364    5524.252273\n",
       "16        Kasha  182.536364    5706.788636\n",
       "17  Tenka Goken  514.426364    6221.215000"
      ]
     },
     "metadata": {},
     "output_type": "display_data"
    }
   ],
   "source": [
    "df5_tenka = pd.DataFrame(actions, columns=['action', 'potency'])\n",
    "df5_tenka['total potency'] = df5_tenka['potency'].cumsum(axis=0)\n",
    "display(df5_tenka)"
   ]
  },
  {
   "cell_type": "code",
   "execution_count": 161,
   "metadata": {
    "collapsed": true
   },
   "outputs": [],
   "source": [
    "sam = Samurai()\n",
    "\n",
    "n_targets = 1\n",
    "\n",
    "actions = [('Hakaze', sam.hakaze()),\n",
    "           ('Shifu', sam.shifu()),\n",
    "           ('Kasha', sam.kasha()),\n",
    "           ('Higanbana', sam.higanbana()),\n",
    "           ('Hakaze', sam.hakaze()+sam.higanbana_dot()),\n",
    "           ('Jinpu', sam.jinpu()+sam.higanbana_dot()),\n",
    "           ('Gekko', sam.gekko()+sam.higanbana_dot()),\n",
    "           ('Higanbana', sam.higanbana()+sam.higanbana_dot()),\n",
    "           ('Hakaze', sam.hakaze()+sam.higanbana_dot()),\n",
    "           ('Shifu', sam.jinpu()+sam.higanbana_dot()),\n",
    "           ('Kasha', sam.kasha()+sam.higanbana_dot()),\n",
    "           ('Higanbana', sam.higanbana()+sam.higanbana_dot()),\n",
    "           ('Hakaze', sam.hakaze()+sam.higanbana_dot()),\n",
    "           ('Jinpu', sam.jinpu()+sam.higanbana_dot()),\n",
    "           ('Gekko', sam.gekko()+sam.higanbana_dot()),\n",
    "           ('Higanbana', sam.higanbana()+sam.higanbana_dot()),\n",
    "           ('Hakaze', sam.hakaze()+sam.higanbana_dot()),\n",
    "           ('Shifu', sam.jinpu()+sam.higanbana_dot())]"
   ]
  },
  {
   "cell_type": "code",
   "execution_count": 162,
   "metadata": {
    "collapsed": false
   },
   "outputs": [
    {
     "data": {
      "text/html": [
       "<div>\n",
       "<table border=\"1\" class=\"dataframe\">\n",
       "  <thead>\n",
       "    <tr style=\"text-align: right;\">\n",
       "      <th></th>\n",
       "      <th>action</th>\n",
       "      <th>potency</th>\n",
       "      <th>total potency</th>\n",
       "    </tr>\n",
       "  </thead>\n",
       "  <tbody>\n",
       "    <tr>\n",
       "      <th>0</th>\n",
       "      <td>Hakaze</td>\n",
       "      <td>150.000000</td>\n",
       "      <td>150.000000</td>\n",
       "    </tr>\n",
       "    <tr>\n",
       "      <th>1</th>\n",
       "      <td>Shifu</td>\n",
       "      <td>280.000000</td>\n",
       "      <td>430.000000</td>\n",
       "    </tr>\n",
       "    <tr>\n",
       "      <th>2</th>\n",
       "      <td>Kasha</td>\n",
       "      <td>444.000000</td>\n",
       "      <td>874.000000</td>\n",
       "    </tr>\n",
       "    <tr>\n",
       "      <th>3</th>\n",
       "      <td>Higanbana</td>\n",
       "      <td>266.400000</td>\n",
       "      <td>1140.400000</td>\n",
       "    </tr>\n",
       "    <tr>\n",
       "      <th>4</th>\n",
       "      <td>Hakaze</td>\n",
       "      <td>214.227273</td>\n",
       "      <td>1354.627273</td>\n",
       "    </tr>\n",
       "    <tr>\n",
       "      <th>5</th>\n",
       "      <td>Jinpu</td>\n",
       "      <td>365.686364</td>\n",
       "      <td>1720.313636</td>\n",
       "    </tr>\n",
       "    <tr>\n",
       "      <th>6</th>\n",
       "      <td>Gekko</td>\n",
       "      <td>565.486364</td>\n",
       "      <td>2285.800000</td>\n",
       "    </tr>\n",
       "    <tr>\n",
       "      <th>7</th>\n",
       "      <td>Higanbana</td>\n",
       "      <td>361.246364</td>\n",
       "      <td>2647.046364</td>\n",
       "    </tr>\n",
       "    <tr>\n",
       "      <th>8</th>\n",
       "      <td>Hakaze</td>\n",
       "      <td>246.361364</td>\n",
       "      <td>2893.407727</td>\n",
       "    </tr>\n",
       "    <tr>\n",
       "      <th>9</th>\n",
       "      <td>Shifu</td>\n",
       "      <td>412.306364</td>\n",
       "      <td>3305.714091</td>\n",
       "    </tr>\n",
       "    <tr>\n",
       "      <th>10</th>\n",
       "      <td>Kasha</td>\n",
       "      <td>182.536364</td>\n",
       "      <td>3488.250455</td>\n",
       "    </tr>\n",
       "    <tr>\n",
       "      <th>11</th>\n",
       "      <td>Higanbana</td>\n",
       "      <td>361.246364</td>\n",
       "      <td>3849.496818</td>\n",
       "    </tr>\n",
       "    <tr>\n",
       "      <th>12</th>\n",
       "      <td>Hakaze</td>\n",
       "      <td>246.361364</td>\n",
       "      <td>4095.858182</td>\n",
       "    </tr>\n",
       "    <tr>\n",
       "      <th>13</th>\n",
       "      <td>Jinpu</td>\n",
       "      <td>412.306364</td>\n",
       "      <td>4508.164545</td>\n",
       "    </tr>\n",
       "    <tr>\n",
       "      <th>14</th>\n",
       "      <td>Gekko</td>\n",
       "      <td>565.486364</td>\n",
       "      <td>5073.650909</td>\n",
       "    </tr>\n",
       "    <tr>\n",
       "      <th>15</th>\n",
       "      <td>Higanbana</td>\n",
       "      <td>361.246364</td>\n",
       "      <td>5434.897273</td>\n",
       "    </tr>\n",
       "    <tr>\n",
       "      <th>16</th>\n",
       "      <td>Hakaze</td>\n",
       "      <td>246.361364</td>\n",
       "      <td>5681.258636</td>\n",
       "    </tr>\n",
       "    <tr>\n",
       "      <th>17</th>\n",
       "      <td>Shifu</td>\n",
       "      <td>412.306364</td>\n",
       "      <td>6093.565000</td>\n",
       "    </tr>\n",
       "  </tbody>\n",
       "</table>\n",
       "</div>"
      ],
      "text/plain": [
       "       action     potency  total potency\n",
       "0      Hakaze  150.000000     150.000000\n",
       "1       Shifu  280.000000     430.000000\n",
       "2       Kasha  444.000000     874.000000\n",
       "3   Higanbana  266.400000    1140.400000\n",
       "4      Hakaze  214.227273    1354.627273\n",
       "5       Jinpu  365.686364    1720.313636\n",
       "6       Gekko  565.486364    2285.800000\n",
       "7   Higanbana  361.246364    2647.046364\n",
       "8      Hakaze  246.361364    2893.407727\n",
       "9       Shifu  412.306364    3305.714091\n",
       "10      Kasha  182.536364    3488.250455\n",
       "11  Higanbana  361.246364    3849.496818\n",
       "12     Hakaze  246.361364    4095.858182\n",
       "13      Jinpu  412.306364    4508.164545\n",
       "14      Gekko  565.486364    5073.650909\n",
       "15  Higanbana  361.246364    5434.897273\n",
       "16     Hakaze  246.361364    5681.258636\n",
       "17      Shifu  412.306364    6093.565000"
      ]
     },
     "metadata": {},
     "output_type": "display_data"
    }
   ],
   "source": [
    "df5_no_tenka = pd.DataFrame(actions, columns=['action', 'potency'])\n",
    "df5_no_tenka['total potency'] = df5_no_tenka['potency'].cumsum(axis=0)\n",
    "display(df5_no_tenka)"
   ]
  },
  {
   "cell_type": "code",
   "execution_count": 163,
   "metadata": {
    "collapsed": false
   },
   "outputs": [
    {
     "data": {
      "image/png": "[encoded data removed]",
      "text/plain": [
       "<matplotlib.figure.Figure at 0xcb37438>"
      ]
     },
     "metadata": {},
     "output_type": "display_data"
    }
   ],
   "source": [
    "compare_potencies([df5_no_tenka, df5_tenka], ['No Tenka Goken', 'With Tenka Goken'])"
   ]
  },
  {
   "cell_type": "markdown",
   "metadata": {},
   "source": [
    "### It's surprisingly close! The rotation with Tenka Goken pulls ahead due to where the encounter ended. We can examine the average potency per GCD of a full cycle of each rotation:\n",
    "\n",
    "### With Tenka Goken: $3641/11 = 331$ potency/GCD\n",
    "\n",
    "### With Higanbana only: $2647/8 = 330$ potency/GCD\n",
    "\n",
    "### Again, extremely close. I would favor using Tenka Goken since it's fresh though."
   ]
  },
  {
   "cell_type": "markdown",
   "metadata": {},
   "source": [
    "### With the addition of a second third-level combo finisher plus Tenka Goken, do we want to move away from the AoE weaponskill rotation in favor of a single target one for the standard three mob pull?"
   ]
  },
  {
   "cell_type": "code",
   "execution_count": 164,
   "metadata": {
    "collapsed": true
   },
   "outputs": [],
   "source": [
    "sam = Samurai()\n",
    "\n",
    "n_targets = 3\n",
    "\n",
    "actions = [('Hakaze', sam.hakaze()),\n",
    "           ('Shifu', sam.shifu()),\n",
    "           ('Kasha', sam.kasha()),\n",
    "           ('Higanbana', sam.higanbana()),\n",
    "           ('Hakaze', sam.hakaze()+sam.higanbana_dot()),\n",
    "           ('Jinpu', sam.jinpu()+sam.higanbana_dot()),\n",
    "           ('Gekko', sam.gekko()+sam.higanbana_dot()),\n",
    "           ('Higanbana', sam.higanbana()+sam.higanbana_dot()),\n",
    "           ('Hakaze', sam.hakaze()+2*sam.higanbana_dot()),\n",
    "           ('Shifu', sam.jinpu()+2*sam.higanbana_dot()),\n",
    "           ('Kasha', sam.kasha()+2*sam.higanbana_dot()),\n",
    "           ('Hakaze', sam.hakaze()+2*sam.higanbana_dot()),\n",
    "           ('Jinpu', sam.jinpu()+2*sam.higanbana_dot()),\n",
    "           ('Gekko', sam.gekko()+2*sam.higanbana_dot()),\n",
    "           ('Tenka Goken', sam.tenka_goken(n_targets)+2*sam.higanbana_dot())]"
   ]
  },
  {
   "cell_type": "code",
   "execution_count": 165,
   "metadata": {
    "collapsed": false
   },
   "outputs": [
    {
     "data": {
      "text/html": [
       "<div>\n",
       "<table border=\"1\" class=\"dataframe\">\n",
       "  <thead>\n",
       "    <tr style=\"text-align: right;\">\n",
       "      <th></th>\n",
       "      <th>action</th>\n",
       "      <th>potency</th>\n",
       "      <th>total potency</th>\n",
       "    </tr>\n",
       "  </thead>\n",
       "  <tbody>\n",
       "    <tr>\n",
       "      <th>0</th>\n",
       "      <td>Hakaze</td>\n",
       "      <td>150.000000</td>\n",
       "      <td>150.000000</td>\n",
       "    </tr>\n",
       "    <tr>\n",
       "      <th>1</th>\n",
       "      <td>Shifu</td>\n",
       "      <td>280.000000</td>\n",
       "      <td>430.000000</td>\n",
       "    </tr>\n",
       "    <tr>\n",
       "      <th>2</th>\n",
       "      <td>Kasha</td>\n",
       "      <td>444.000000</td>\n",
       "      <td>874.000000</td>\n",
       "    </tr>\n",
       "    <tr>\n",
       "      <th>3</th>\n",
       "      <td>Higanbana</td>\n",
       "      <td>266.400000</td>\n",
       "      <td>1140.400000</td>\n",
       "    </tr>\n",
       "    <tr>\n",
       "      <th>4</th>\n",
       "      <td>Hakaze</td>\n",
       "      <td>214.227273</td>\n",
       "      <td>1354.627273</td>\n",
       "    </tr>\n",
       "    <tr>\n",
       "      <th>5</th>\n",
       "      <td>Jinpu</td>\n",
       "      <td>365.686364</td>\n",
       "      <td>1720.313636</td>\n",
       "    </tr>\n",
       "    <tr>\n",
       "      <th>6</th>\n",
       "      <td>Gekko</td>\n",
       "      <td>565.486364</td>\n",
       "      <td>2285.800000</td>\n",
       "    </tr>\n",
       "    <tr>\n",
       "      <th>7</th>\n",
       "      <td>Higanbana</td>\n",
       "      <td>361.246364</td>\n",
       "      <td>2647.046364</td>\n",
       "    </tr>\n",
       "    <tr>\n",
       "      <th>8</th>\n",
       "      <td>Hakaze</td>\n",
       "      <td>301.247727</td>\n",
       "      <td>2948.294091</td>\n",
       "    </tr>\n",
       "    <tr>\n",
       "      <th>9</th>\n",
       "      <td>Shifu</td>\n",
       "      <td>467.192727</td>\n",
       "      <td>3415.486818</td>\n",
       "    </tr>\n",
       "    <tr>\n",
       "      <th>10</th>\n",
       "      <td>Kasha</td>\n",
       "      <td>237.422727</td>\n",
       "      <td>3652.909545</td>\n",
       "    </tr>\n",
       "    <tr>\n",
       "      <th>11</th>\n",
       "      <td>Hakaze</td>\n",
       "      <td>301.247727</td>\n",
       "      <td>3954.157273</td>\n",
       "    </tr>\n",
       "    <tr>\n",
       "      <th>12</th>\n",
       "      <td>Jinpu</td>\n",
       "      <td>467.192727</td>\n",
       "      <td>4421.350000</td>\n",
       "    </tr>\n",
       "    <tr>\n",
       "      <th>13</th>\n",
       "      <td>Gekko</td>\n",
       "      <td>620.372727</td>\n",
       "      <td>5041.722727</td>\n",
       "    </tr>\n",
       "    <tr>\n",
       "      <th>14</th>\n",
       "      <td>Tenka Goken</td>\n",
       "      <td>1350.530727</td>\n",
       "      <td>6392.253455</td>\n",
       "    </tr>\n",
       "  </tbody>\n",
       "</table>\n",
       "</div>"
      ],
      "text/plain": [
       "         action      potency  total potency\n",
       "0        Hakaze   150.000000     150.000000\n",
       "1         Shifu   280.000000     430.000000\n",
       "2         Kasha   444.000000     874.000000\n",
       "3     Higanbana   266.400000    1140.400000\n",
       "4        Hakaze   214.227273    1354.627273\n",
       "5         Jinpu   365.686364    1720.313636\n",
       "6         Gekko   565.486364    2285.800000\n",
       "7     Higanbana   361.246364    2647.046364\n",
       "8        Hakaze   301.247727    2948.294091\n",
       "9         Shifu   467.192727    3415.486818\n",
       "10        Kasha   237.422727    3652.909545\n",
       "11       Hakaze   301.247727    3954.157273\n",
       "12        Jinpu   467.192727    4421.350000\n",
       "13        Gekko   620.372727    5041.722727\n",
       "14  Tenka Goken  1350.530727    6392.253455"
      ]
     },
     "metadata": {},
     "output_type": "display_data"
    }
   ],
   "source": [
    "df5_aoe_higanbana = pd.DataFrame(actions, columns=['action', 'potency'])\n",
    "df5_aoe_higanbana['total potency'] = df5_aoe_higanbana['potency'].cumsum(axis=0)\n",
    "display(df5_aoe_higanbana)"
   ]
  },
  {
   "cell_type": "code",
   "execution_count": 166,
   "metadata": {
    "collapsed": true
   },
   "outputs": [],
   "source": [
    "sam = Samurai()\n",
    "\n",
    "n_targets = 3\n",
    "\n",
    "actions = [('Hakaze', sam.hakaze()),\n",
    "           ('Shifu', sam.shifu()),\n",
    "           ('Kasha', sam.kasha()),\n",
    "           ('Hakaze', sam.hakaze()),\n",
    "           ('Jinpu', sam.jinpu()),\n",
    "           ('Gekko', sam.gekko()),\n",
    "           ('Tenka Goken', sam.tenka_goken(n_targets)),\n",
    "           ('Hakaze', sam.hakaze()),\n",
    "           ('Shifu', sam.shifu()),\n",
    "           ('Kasha', sam.kasha()),\n",
    "           ('Hakaze', sam.hakaze()),\n",
    "           ('Jinpu', sam.jinpu()),\n",
    "           ('Gekko', sam.gekko()),\n",
    "           ('Tenka Goken', sam.tenka_goken(n_targets)),\n",
    "           ('Hakaze', sam.hakaze())]"
   ]
  },
  {
   "cell_type": "code",
   "execution_count": 167,
   "metadata": {
    "collapsed": false
   },
   "outputs": [
    {
     "data": {
      "text/html": [
       "<div>\n",
       "<table border=\"1\" class=\"dataframe\">\n",
       "  <thead>\n",
       "    <tr style=\"text-align: right;\">\n",
       "      <th></th>\n",
       "      <th>action</th>\n",
       "      <th>potency</th>\n",
       "      <th>total potency</th>\n",
       "    </tr>\n",
       "  </thead>\n",
       "  <tbody>\n",
       "    <tr>\n",
       "      <th>0</th>\n",
       "      <td>Hakaze</td>\n",
       "      <td>150.000</td>\n",
       "      <td>150.000</td>\n",
       "    </tr>\n",
       "    <tr>\n",
       "      <th>1</th>\n",
       "      <td>Shifu</td>\n",
       "      <td>280.000</td>\n",
       "      <td>430.000</td>\n",
       "    </tr>\n",
       "    <tr>\n",
       "      <th>2</th>\n",
       "      <td>Kasha</td>\n",
       "      <td>444.000</td>\n",
       "      <td>874.000</td>\n",
       "    </tr>\n",
       "    <tr>\n",
       "      <th>3</th>\n",
       "      <td>Hakaze</td>\n",
       "      <td>166.500</td>\n",
       "      <td>1040.500</td>\n",
       "    </tr>\n",
       "    <tr>\n",
       "      <th>4</th>\n",
       "      <td>Jinpu</td>\n",
       "      <td>310.800</td>\n",
       "      <td>1351.300</td>\n",
       "    </tr>\n",
       "    <tr>\n",
       "      <th>5</th>\n",
       "      <td>Gekko</td>\n",
       "      <td>510.600</td>\n",
       "      <td>1861.900</td>\n",
       "    </tr>\n",
       "    <tr>\n",
       "      <th>6</th>\n",
       "      <td>Tenka Goken</td>\n",
       "      <td>1240.758</td>\n",
       "      <td>3102.658</td>\n",
       "    </tr>\n",
       "    <tr>\n",
       "      <th>7</th>\n",
       "      <td>Hakaze</td>\n",
       "      <td>191.475</td>\n",
       "      <td>3294.133</td>\n",
       "    </tr>\n",
       "    <tr>\n",
       "      <th>8</th>\n",
       "      <td>Shifu</td>\n",
       "      <td>357.420</td>\n",
       "      <td>3651.553</td>\n",
       "    </tr>\n",
       "    <tr>\n",
       "      <th>9</th>\n",
       "      <td>Kasha</td>\n",
       "      <td>510.600</td>\n",
       "      <td>4162.153</td>\n",
       "    </tr>\n",
       "    <tr>\n",
       "      <th>10</th>\n",
       "      <td>Hakaze</td>\n",
       "      <td>191.475</td>\n",
       "      <td>4353.628</td>\n",
       "    </tr>\n",
       "    <tr>\n",
       "      <th>11</th>\n",
       "      <td>Jinpu</td>\n",
       "      <td>357.420</td>\n",
       "      <td>4711.048</td>\n",
       "    </tr>\n",
       "    <tr>\n",
       "      <th>12</th>\n",
       "      <td>Gekko</td>\n",
       "      <td>510.600</td>\n",
       "      <td>5221.648</td>\n",
       "    </tr>\n",
       "    <tr>\n",
       "      <th>13</th>\n",
       "      <td>Tenka Goken</td>\n",
       "      <td>1240.758</td>\n",
       "      <td>6462.406</td>\n",
       "    </tr>\n",
       "    <tr>\n",
       "      <th>14</th>\n",
       "      <td>Hakaze</td>\n",
       "      <td>191.475</td>\n",
       "      <td>6653.881</td>\n",
       "    </tr>\n",
       "  </tbody>\n",
       "</table>\n",
       "</div>"
      ],
      "text/plain": [
       "         action   potency  total potency\n",
       "0        Hakaze   150.000        150.000\n",
       "1         Shifu   280.000        430.000\n",
       "2         Kasha   444.000        874.000\n",
       "3        Hakaze   166.500       1040.500\n",
       "4         Jinpu   310.800       1351.300\n",
       "5         Gekko   510.600       1861.900\n",
       "6   Tenka Goken  1240.758       3102.658\n",
       "7        Hakaze   191.475       3294.133\n",
       "8         Shifu   357.420       3651.553\n",
       "9         Kasha   510.600       4162.153\n",
       "10       Hakaze   191.475       4353.628\n",
       "11        Jinpu   357.420       4711.048\n",
       "12        Gekko   510.600       5221.648\n",
       "13  Tenka Goken  1240.758       6462.406\n",
       "14       Hakaze   191.475       6653.881"
      ]
     },
     "metadata": {},
     "output_type": "display_data"
    }
   ],
   "source": [
    "df5_aoe_tenka_only = pd.DataFrame(actions, columns=['action', 'potency'])\n",
    "df5_aoe_tenka_only['total potency'] = df5_aoe_tenka_only['potency'].cumsum(axis=0)\n",
    "display(df5_aoe_tenka_only)"
   ]
  },
  {
   "cell_type": "code",
   "execution_count": 168,
   "metadata": {
    "collapsed": false
   },
   "outputs": [
    {
     "data": {
      "image/png": "[encoded data removed]",
      "text/plain": [
       "<matplotlib.figure.Figure at 0xe74bfd0>"
      ]
     },
     "metadata": {},
     "output_type": "display_data"
    }
   ],
   "source": [
    "compare_potencies([df5_aoe_tenka_only, df5_aoe_higanbana], ['Tenka Goken only', 'Higanbana two targets first'])"
   ]
  },
  {
   "cell_type": "markdown",
   "metadata": {},
   "source": [
    "### Both of these rotation potencies are inferior compared to using the AoE skills, even without Tenka Goken. However, we can open Getsu using the Mangetsu combo and open Ka using the Kasha combo. Maybe that works better?"
   ]
  },
  {
   "cell_type": "code",
   "execution_count": 169,
   "metadata": {
    "collapsed": true
   },
   "outputs": [],
   "source": [
    "sam = Samurai()\n",
    "\n",
    "n_targets = 3\n",
    "\n",
    "actions = [('Hakaze', sam.hakaze()),\n",
    "           ('Shifu', sam.shifu()),\n",
    "           ('Kasha', sam.kasha()),\n",
    "           ('Higanbana', sam.higanbana()),\n",
    "           ('Fuga', sam.fuga(n_targets)+sam.higanbana_dot()),\n",
    "           ('Mangetsu', sam.mangetsu(n_targets)+sam.higanbana_dot()),\n",
    "           ('Higanbana', sam.higanbana()+sam.higanbana_dot()),\n",
    "           ('Hakaze', sam.hakaze()+2*sam.higanbana_dot()),\n",
    "           ('Shifu', sam.jinpu()+2*sam.higanbana_dot()),\n",
    "           ('Kasha', sam.kasha()+2*sam.higanbana_dot()),\n",
    "           ('Fuga', sam.fuga(n_targets)+2*sam.higanbana_dot()),\n",
    "           ('Mangetsu', sam.mangetsu(n_targets)+2*sam.higanbana_dot()),\n",
    "           ('Tenka Goken', sam.tenka_goken(n_targets)+2*sam.higanbana_dot()),\n",
    "           ('Fuga', sam.fuga(n_targets)+2*sam.higanbana_dot()),\n",
    "           ('Mangetsu', sam.mangetsu(n_targets)+2*sam.higanbana_dot()),\n",
    "           ('Hakaze', sam.hakaze()+2*sam.higanbana_dot()),\n",
    "           ('Shifu', sam.jinpu()+2*sam.higanbana_dot()),\n",
    "           ('Kasha', sam.kasha()+2*sam.higanbana_dot()),\n",
    "           ('Tenka Goken', sam.tenka_goken(n_targets)+2*sam.higanbana_dot())]"
   ]
  },
  {
   "cell_type": "code",
   "execution_count": 170,
   "metadata": {
    "collapsed": false
   },
   "outputs": [
    {
     "data": {
      "text/html": [
       "<div>\n",
       "<table border=\"1\" class=\"dataframe\">\n",
       "  <thead>\n",
       "    <tr style=\"text-align: right;\">\n",
       "      <th></th>\n",
       "      <th>action</th>\n",
       "      <th>potency</th>\n",
       "      <th>total potency</th>\n",
       "    </tr>\n",
       "  </thead>\n",
       "  <tbody>\n",
       "    <tr>\n",
       "      <th>0</th>\n",
       "      <td>Hakaze</td>\n",
       "      <td>150.000000</td>\n",
       "      <td>150.000000</td>\n",
       "    </tr>\n",
       "    <tr>\n",
       "      <th>1</th>\n",
       "      <td>Shifu</td>\n",
       "      <td>280.000000</td>\n",
       "      <td>430.000000</td>\n",
       "    </tr>\n",
       "    <tr>\n",
       "      <th>2</th>\n",
       "      <td>Kasha</td>\n",
       "      <td>444.000000</td>\n",
       "      <td>874.000000</td>\n",
       "    </tr>\n",
       "    <tr>\n",
       "      <th>3</th>\n",
       "      <td>Higanbana</td>\n",
       "      <td>266.400000</td>\n",
       "      <td>1140.400000</td>\n",
       "    </tr>\n",
       "    <tr>\n",
       "      <th>4</th>\n",
       "      <td>Fuga</td>\n",
       "      <td>380.727273</td>\n",
       "      <td>1521.127273</td>\n",
       "    </tr>\n",
       "    <tr>\n",
       "      <th>5</th>\n",
       "      <td>Mangetsu</td>\n",
       "      <td>647.127273</td>\n",
       "      <td>2168.254545</td>\n",
       "    </tr>\n",
       "    <tr>\n",
       "      <th>6</th>\n",
       "      <td>Higanbana</td>\n",
       "      <td>314.127273</td>\n",
       "      <td>2482.381818</td>\n",
       "    </tr>\n",
       "    <tr>\n",
       "      <th>7</th>\n",
       "      <td>Hakaze</td>\n",
       "      <td>261.954545</td>\n",
       "      <td>2744.336364</td>\n",
       "    </tr>\n",
       "    <tr>\n",
       "      <th>8</th>\n",
       "      <td>Shifu</td>\n",
       "      <td>420.572727</td>\n",
       "      <td>3164.909091</td>\n",
       "    </tr>\n",
       "    <tr>\n",
       "      <th>9</th>\n",
       "      <td>Kasha</td>\n",
       "      <td>237.422727</td>\n",
       "      <td>3402.331818</td>\n",
       "    </tr>\n",
       "    <tr>\n",
       "      <th>10</th>\n",
       "      <td>Fuga</td>\n",
       "      <td>492.722727</td>\n",
       "      <td>3895.054545</td>\n",
       "    </tr>\n",
       "    <tr>\n",
       "      <th>11</th>\n",
       "      <td>Mangetsu</td>\n",
       "      <td>799.082727</td>\n",
       "      <td>4694.137273</td>\n",
       "    </tr>\n",
       "    <tr>\n",
       "      <th>12</th>\n",
       "      <td>Tenka Goken</td>\n",
       "      <td>1350.530727</td>\n",
       "      <td>6044.668000</td>\n",
       "    </tr>\n",
       "    <tr>\n",
       "      <th>13</th>\n",
       "      <td>Fuga</td>\n",
       "      <td>492.722727</td>\n",
       "      <td>6537.390727</td>\n",
       "    </tr>\n",
       "    <tr>\n",
       "      <th>14</th>\n",
       "      <td>Mangetsu</td>\n",
       "      <td>799.082727</td>\n",
       "      <td>7336.473455</td>\n",
       "    </tr>\n",
       "    <tr>\n",
       "      <th>15</th>\n",
       "      <td>Hakaze</td>\n",
       "      <td>301.247727</td>\n",
       "      <td>7637.721182</td>\n",
       "    </tr>\n",
       "    <tr>\n",
       "      <th>16</th>\n",
       "      <td>Shifu</td>\n",
       "      <td>467.192727</td>\n",
       "      <td>8104.913909</td>\n",
       "    </tr>\n",
       "    <tr>\n",
       "      <th>17</th>\n",
       "      <td>Kasha</td>\n",
       "      <td>237.422727</td>\n",
       "      <td>8342.336636</td>\n",
       "    </tr>\n",
       "    <tr>\n",
       "      <th>18</th>\n",
       "      <td>Tenka Goken</td>\n",
       "      <td>1350.530727</td>\n",
       "      <td>9692.867364</td>\n",
       "    </tr>\n",
       "  </tbody>\n",
       "</table>\n",
       "</div>"
      ],
      "text/plain": [
       "         action      potency  total potency\n",
       "0        Hakaze   150.000000     150.000000\n",
       "1         Shifu   280.000000     430.000000\n",
       "2         Kasha   444.000000     874.000000\n",
       "3     Higanbana   266.400000    1140.400000\n",
       "4          Fuga   380.727273    1521.127273\n",
       "5      Mangetsu   647.127273    2168.254545\n",
       "6     Higanbana   314.127273    2482.381818\n",
       "7        Hakaze   261.954545    2744.336364\n",
       "8         Shifu   420.572727    3164.909091\n",
       "9         Kasha   237.422727    3402.331818\n",
       "10         Fuga   492.722727    3895.054545\n",
       "11     Mangetsu   799.082727    4694.137273\n",
       "12  Tenka Goken  1350.530727    6044.668000\n",
       "13         Fuga   492.722727    6537.390727\n",
       "14     Mangetsu   799.082727    7336.473455\n",
       "15       Hakaze   301.247727    7637.721182\n",
       "16        Shifu   467.192727    8104.913909\n",
       "17        Kasha   237.422727    8342.336636\n",
       "18  Tenka Goken  1350.530727    9692.867364"
      ]
     },
     "metadata": {},
     "output_type": "display_data"
    }
   ],
   "source": [
    "df5_aoe_higanbana2 = pd.DataFrame(actions, columns=['action', 'potency'])\n",
    "df5_aoe_higanbana2['total potency'] = df5_aoe_higanbana2['potency'].cumsum(axis=0)\n",
    "display(df5_aoe_higanbana2)"
   ]
  },
  {
   "cell_type": "code",
   "execution_count": 171,
   "metadata": {
    "collapsed": true
   },
   "outputs": [],
   "source": [
    "sam = Samurai()\n",
    "\n",
    "n_targets = 3\n",
    "\n",
    "actions = [('Hakaze', sam.hakaze()),\n",
    "           ('Shifu', sam.shifu()),\n",
    "           ('Kasha', sam.kasha()),\n",
    "           ('Fuga', sam.fuga(n_targets)),\n",
    "           ('Mangetsu', sam.mangetsu(n_targets)),\n",
    "           ('Tenka Goken', sam.tenka_goken(n_targets)),\n",
    "           ('Hakaze', sam.hakaze()),\n",
    "           ('Shifu', sam.shifu()),\n",
    "           ('Kasha', sam.kasha()),\n",
    "           ('Fuga', sam.fuga(n_targets)),\n",
    "           ('Mangetsu', sam.mangetsu(n_targets)),\n",
    "           ('Tenka Goken', sam.tenka_goken(n_targets)),\n",
    "           ('Hakaze', sam.hakaze()),\n",
    "           ('Shifu', sam.shifu()),\n",
    "           ('Kasha', sam.kasha()),\n",
    "           ('Fuga', sam.fuga(n_targets)),\n",
    "           ('Mangetsu', sam.mangetsu(n_targets)),\n",
    "           ('Tenka Goken', sam.tenka_goken(n_targets))]"
   ]
  },
  {
   "cell_type": "code",
   "execution_count": 172,
   "metadata": {
    "collapsed": false
   },
   "outputs": [
    {
     "data": {
      "text/html": [
       "<div>\n",
       "<table border=\"1\" class=\"dataframe\">\n",
       "  <thead>\n",
       "    <tr style=\"text-align: right;\">\n",
       "      <th></th>\n",
       "      <th>action</th>\n",
       "      <th>potency</th>\n",
       "      <th>total potency</th>\n",
       "    </tr>\n",
       "  </thead>\n",
       "  <tbody>\n",
       "    <tr>\n",
       "      <th>0</th>\n",
       "      <td>Hakaze</td>\n",
       "      <td>150.00</td>\n",
       "      <td>150.00</td>\n",
       "    </tr>\n",
       "    <tr>\n",
       "      <th>1</th>\n",
       "      <td>Shifu</td>\n",
       "      <td>280.00</td>\n",
       "      <td>430.00</td>\n",
       "    </tr>\n",
       "    <tr>\n",
       "      <th>2</th>\n",
       "      <td>Kasha</td>\n",
       "      <td>444.00</td>\n",
       "      <td>874.00</td>\n",
       "    </tr>\n",
       "    <tr>\n",
       "      <th>3</th>\n",
       "      <td>Fuga</td>\n",
       "      <td>333.00</td>\n",
       "      <td>1207.00</td>\n",
       "    </tr>\n",
       "    <tr>\n",
       "      <th>4</th>\n",
       "      <td>Mangetsu</td>\n",
       "      <td>599.40</td>\n",
       "      <td>1806.40</td>\n",
       "    </tr>\n",
       "    <tr>\n",
       "      <th>5</th>\n",
       "      <td>Tenka Goken</td>\n",
       "      <td>1078.92</td>\n",
       "      <td>2885.32</td>\n",
       "    </tr>\n",
       "    <tr>\n",
       "      <th>6</th>\n",
       "      <td>Hakaze</td>\n",
       "      <td>166.50</td>\n",
       "      <td>3051.82</td>\n",
       "    </tr>\n",
       "    <tr>\n",
       "      <th>7</th>\n",
       "      <td>Shifu</td>\n",
       "      <td>310.80</td>\n",
       "      <td>3362.62</td>\n",
       "    </tr>\n",
       "    <tr>\n",
       "      <th>8</th>\n",
       "      <td>Kasha</td>\n",
       "      <td>444.00</td>\n",
       "      <td>3806.62</td>\n",
       "    </tr>\n",
       "    <tr>\n",
       "      <th>9</th>\n",
       "      <td>Fuga</td>\n",
       "      <td>333.00</td>\n",
       "      <td>4139.62</td>\n",
       "    </tr>\n",
       "    <tr>\n",
       "      <th>10</th>\n",
       "      <td>Mangetsu</td>\n",
       "      <td>599.40</td>\n",
       "      <td>4739.02</td>\n",
       "    </tr>\n",
       "    <tr>\n",
       "      <th>11</th>\n",
       "      <td>Tenka Goken</td>\n",
       "      <td>1078.92</td>\n",
       "      <td>5817.94</td>\n",
       "    </tr>\n",
       "    <tr>\n",
       "      <th>12</th>\n",
       "      <td>Hakaze</td>\n",
       "      <td>166.50</td>\n",
       "      <td>5984.44</td>\n",
       "    </tr>\n",
       "    <tr>\n",
       "      <th>13</th>\n",
       "      <td>Shifu</td>\n",
       "      <td>310.80</td>\n",
       "      <td>6295.24</td>\n",
       "    </tr>\n",
       "    <tr>\n",
       "      <th>14</th>\n",
       "      <td>Kasha</td>\n",
       "      <td>444.00</td>\n",
       "      <td>6739.24</td>\n",
       "    </tr>\n",
       "    <tr>\n",
       "      <th>15</th>\n",
       "      <td>Fuga</td>\n",
       "      <td>333.00</td>\n",
       "      <td>7072.24</td>\n",
       "    </tr>\n",
       "    <tr>\n",
       "      <th>16</th>\n",
       "      <td>Mangetsu</td>\n",
       "      <td>599.40</td>\n",
       "      <td>7671.64</td>\n",
       "    </tr>\n",
       "    <tr>\n",
       "      <th>17</th>\n",
       "      <td>Tenka Goken</td>\n",
       "      <td>1078.92</td>\n",
       "      <td>8750.56</td>\n",
       "    </tr>\n",
       "  </tbody>\n",
       "</table>\n",
       "</div>"
      ],
      "text/plain": [
       "         action  potency  total potency\n",
       "0        Hakaze   150.00         150.00\n",
       "1         Shifu   280.00         430.00\n",
       "2         Kasha   444.00         874.00\n",
       "3          Fuga   333.00        1207.00\n",
       "4      Mangetsu   599.40        1806.40\n",
       "5   Tenka Goken  1078.92        2885.32\n",
       "6        Hakaze   166.50        3051.82\n",
       "7         Shifu   310.80        3362.62\n",
       "8         Kasha   444.00        3806.62\n",
       "9          Fuga   333.00        4139.62\n",
       "10     Mangetsu   599.40        4739.02\n",
       "11  Tenka Goken  1078.92        5817.94\n",
       "12       Hakaze   166.50        5984.44\n",
       "13        Shifu   310.80        6295.24\n",
       "14        Kasha   444.00        6739.24\n",
       "15         Fuga   333.00        7072.24\n",
       "16     Mangetsu   599.40        7671.64\n",
       "17  Tenka Goken  1078.92        8750.56"
      ]
     },
     "metadata": {},
     "output_type": "display_data"
    }
   ],
   "source": [
    "df5_aoe_tenka_only2 = pd.DataFrame(actions, columns=['action', 'potency'])\n",
    "df5_aoe_tenka_only2['total potency'] = df5_aoe_tenka_only2['potency'].cumsum(axis=0)\n",
    "display(df5_aoe_tenka_only2)"
   ]
  },
  {
   "cell_type": "markdown",
   "metadata": {},
   "source": [
    "### In terms of average potency per GCD, applying Higanbana to two targets before using Tenka Goken and using the Mangetsu combo to open Getsu wins out at 538. Using Tenka Goken exclusively but also using the Mangetsu combo to open Getsu follows at 486, while the previous rotation with Higanbana and Mangetsu combo only comes in at 469. Although the inclusion of the AoE weaponskills will scale better with larger pulls, we must remember TP sustainability is a concern. As the number of targets dwindles down to 3, it may be better to favor rotations with single target weaponskills."
   ]
  },
  {
   "cell_type": "markdown",
   "metadata": {},
   "source": [
    "### Thankfully, level 45 introduces the Oka AoE combo (combo from Fuga). This finisher is equal in potency to the Mangetsu finisher, but similarly to Kasha for single target, opens the Ka Sen instead. This opens the AoE rotation of alternating combos to open Ka and Getsu in order to use Tenka Goken. While this is definitely TP unfriendly, it should scale very well with mob size."
   ]
  },
  {
   "cell_type": "code",
   "execution_count": 173,
   "metadata": {
    "collapsed": true
   },
   "outputs": [],
   "source": [
    "dfs = []\n",
    "labels = []\n",
    "\n",
    "for n_targets in range(2, 8):\n",
    "    sam = Samurai()\n",
    "    \n",
    "    actions = [('Fuga', sam.fuga(n_targets)),\n",
    "               ('Mangetsu', sam.mangetsu(n_targets)),\n",
    "               ('Fuga', sam.fuga(n_targets)),\n",
    "               ('Oka', sam.oka(n_targets)),\n",
    "               ('Tenka Goken', sam.tenka_goken(n_targets)),\n",
    "               ('Fuga', sam.fuga(n_targets)),\n",
    "               ('Mangetsu', sam.mangetsu(n_targets)),\n",
    "               ('Fuga', sam.fuga(n_targets)),\n",
    "               ('Oka', sam.oka(n_targets)),\n",
    "               ('Tenka Goken', sam.tenka_goken(n_targets)),\n",
    "               ('Fuga', sam.fuga(n_targets)),\n",
    "               ('Mangetsu', sam.mangetsu(n_targets)),\n",
    "               ('Fuga', sam.fuga(n_targets)),\n",
    "               ('Oka', sam.oka(n_targets)),\n",
    "               ('Tenka Goken', sam.tenka_goken(n_targets))]\n",
    "    \n",
    "    df_temp = pd.DataFrame(actions, columns=['action', 'potency'])\n",
    "    df_temp['total potency'] = df_temp['potency'].cumsum(axis=0)\n",
    "    dfs.append(df_temp)\n",
    "    \n",
    "    labels.append('%s targets' % n_targets)  "
   ]
  },
  {
   "cell_type": "code",
   "execution_count": 174,
   "metadata": {
    "collapsed": false
   },
   "outputs": [
    {
     "data": {
      "image/png": "[encoded data removed]",
      "text/plain": [
       "<matplotlib.figure.Figure at 0xe607f98>"
      ]
     },
     "metadata": {},
     "output_type": "display_data"
    }
   ],
   "source": [
    "compare_n_potencies(dfs, labels)"
   ]
  },
  {
   "cell_type": "markdown",
   "metadata": {},
   "source": [
    "### At 3 targets, the potency of a full duration Higanbana is comparable to Tenka Goken, so applying Higanbana to some targets has merit (especially due to its 1 Sen cost). However, the AoE-centric rotation scales exceptionally well as pull size passes 3. The ability to open up Getsu and Ka with only four GCDs allowing for more frequent Tenka Goken casts facilitates that."
   ]
  },
  {
   "cell_type": "markdown",
   "metadata": {},
   "source": [
    "### Priority: Shifu > Jinpu and Higanbana > Tenka Goken\n",
    "\n",
    "### Filler: Alternate Kasha and Gekko combos to maintain buffs and enable Tenka Goken\n",
    "\n",
    "### AoE: Mangetsu combo, Oka combo if available, otherwise Kasha combo. For packs of 3, apply Higanbana to 1-2 sturdy targets before building for Tenka Goken. For larger packs, use Tenka Goken only. Shift to single target weaponskills if TP is scarce but prioritize Iaijutsu as described."
   ]
  },
  {
   "cell_type": "markdown",
   "metadata": {},
   "source": [
    "## lvl 50-70 rotation"
   ]
  },
  {
   "cell_type": "markdown",
   "metadata": {},
   "source": [
    "### With all weaponskills acquired at level 50, the remainder of the levels up to 70 fill out the Hissatsu mechanic. These abilities are spenders for the Kenki gauge and add personal utility, buffs, or extra damage. I'm assuming a lvl 50 trait adds the Kenki accumulation. (Kenki mastery I). Kenki mastery II is a lvl 62 trait that increases the Kenki gauage when executing all weaponskills excluding Iaijutsu. Prior to that is it from autoattacks? TBD."
   ]
  },
  {
   "cell_type": "markdown",
   "metadata": {},
   "source": [
    "### lvl 52: Hissatsu: Kaiten increases next weaponskill damage by 50%. Five second recast. Use on Higanbana > Midare Setsugekka > Tenka Goken, depending on situation."
   ]
  },
  {
   "cell_type": "markdown",
   "metadata": {},
   "source": [
    "### lvl 54: Hissatsu: Gyoten is a gap closer with potency."
   ]
  },
  {
   "cell_type": "markdown",
   "metadata": {},
   "source": [
    "### lvl 56: Hissatsu: Yaten is a disengage backflip. It grants Enhanced Enbi which lets you use a high potency, ranged followup to maintain uptime."
   ]
  },
  {
   "cell_type": "markdown",
   "metadata": {},
   "source": [
    "### lvl 58: Merciful Eyes is a self heal that may be used after using Third Eye. Share recast with Starry Eyes."
   ]
  },
  {
   "cell_type": "markdown",
   "metadata": {},
   "source": [
    "### lvl 60: Meditate is an ability that increases your Kenki gauge during extended periods of downtime."
   ]
  },
  {
   "cell_type": "markdown",
   "metadata": {},
   "source": [
    "### lvl 62: Hissatsu: Shinten is a high potency filler ability with short recast. It should be used to dump Kenki when it is not needed for Hissatsu: Kaiten. This is likely after Hissatsu: Kaiten has already been applied to Higanbana and Midare Setsugekka and you are building up for another Midare Setsugekka."
   ]
  },
  {
   "cell_type": "markdown",
   "metadata": {},
   "source": [
    "### lvl 64: Hissatsu: Kyuten is analogous to Hissatsu: Shinten but for PBAoE. However, since Tenka Goken only requires two Sen, maybe you don't need to dump Kenki unless you need the burst?"
   ]
  },
  {
   "cell_type": "markdown",
   "metadata": {},
   "source": [
    "### lvl 66: Starry Eyes is ability filler usable after Third Eye. It costs the same amount of Kenki as Hissatsu: Shinten while being 2/3 of the potency so... idk?"
   ]
  },
  {
   "cell_type": "markdown",
   "metadata": {},
   "source": [
    "### lvl 68: Hagakure is a 40s cooldown ability that converts open Sen to Kenki at a rate of 1:20. This will be interesting to look at."
   ]
  },
  {
   "cell_type": "markdown",
   "metadata": {},
   "source": [
    "### lvl 70: Hissatsu: Guren is a line AoE that deals massive damage -- 800 potency for the first hit, 600 for the next hit, and 400 for any remaining. Literally the strongest action in the game other than Kaiten buffed Iaijutsu. Will have to look at Kenki generation to see its use, especially in single target situations."
   ]
  },
  {
   "cell_type": "code",
   "execution_count": null,
   "metadata": {
    "collapsed": true
   },
   "outputs": [],
   "source": []
  }
 ],
 "metadata": {
  "kernelspec": {
   "display_name": "Python 2",
   "language": "python",
   "name": "python2"
  },
  "language_info": {
   "codemirror_mode": {
    "name": "ipython",
    "version": 2
   },
   "file_extension": ".py",
   "mimetype": "text/x-python",
   "name": "python",
   "nbconvert_exporter": "python",
   "pygments_lexer": "ipython2",
   "version": "2.7.13"
  }
 },
 "nbformat": 4,
 "nbformat_minor": 2
}
