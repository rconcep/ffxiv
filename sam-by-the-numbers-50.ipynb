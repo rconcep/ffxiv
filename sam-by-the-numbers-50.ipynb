{
 "cells": [
  {
   "cell_type": "markdown",
   "metadata": {},
   "source": [
    "# Samurai by the numbers (lvl 50)\n",
    "## by Tzuyu Chou (Cactuar)"
   ]
  },
  {
   "cell_type": "markdown",
   "metadata": {},
   "source": [
    "### Update log\n",
    "<ul>\n",
    "<li> 06/05/2017: Finished through two extended rotations.\n",
    "<li> 06/03/2017: Updating format to be consistent with part 1. Including the new parse rotation function syntax.\n",
    "<li> 06/01/2017: Three openers and priority\n",
    "</ul>"
   ]
  },
  {
   "cell_type": "code",
   "execution_count": 1,
   "metadata": {
    "collapsed": false
   },
   "outputs": [
    {
     "ename": "SyntaxError",
     "evalue": "invalid syntax (samurai.py, line 9)",
     "output_type": "error",
     "traceback": [
      "\u001b[0;36m  File \u001b[0;32m\"samurai.py\"\u001b[0;36m, line \u001b[0;32m9\u001b[0m\n\u001b[0;31m    class Samurai(base_gcd=2.40):\u001b[0m\n\u001b[0m                          ^\u001b[0m\n\u001b[0;31mSyntaxError\u001b[0m\u001b[0;31m:\u001b[0m invalid syntax\n"
     ]
    }
   ],
   "source": [
    "from samurai import *\n",
    "from plotting import *\n",
    "\n",
    "import matplotlib.pyplot as plt\n",
    "import pandas as pd\n",
    "import numpy as np\n",
    "import seaborn as sb\n",
    "from IPython.display import display\n",
    "%matplotlib inline\n",
    "\n",
    "pd.options.display.max_rows = None"
   ]
  },
  {
   "cell_type": "markdown",
   "metadata": {},
   "source": [
    "<hr width=75%>"
   ]
  },
  {
   "cell_type": "markdown",
   "metadata": {},
   "source": [
    "## lvl 50"
   ]
  },
  {
   "cell_type": "markdown",
   "metadata": {},
   "source": [
    "Level 50 unlocks the final weaponskill, Yukikaze, a combo finisher to open the final Sen, Setsu. It combos from Hakaze so it is a two hit combo contrary to Gekko and Kasha. Level 50 also confers the Meikyo Shisui ability, a cooldown that allows you to execute up to 3 combo abilities without meeting combo prerequisites. This may be used, for example, to quickly get Jinpu and Shifu buffs up or to open up all three Sen in a fraction of the time as normal.\n",
    "\n",
    "Furthermore, the opening of the final Sen unlocks the final Iaijutsu, Midare Setsugekka. This powerful single target nuke gives the opportunity in single target situations to deal massive damage without having to clip Higanbana."
   ]
  },
  {
   "cell_type": "markdown",
   "metadata": {},
   "source": [
    "Let's explore opener options."
   ]
  },
  {
   "cell_type": "markdown",
   "metadata": {},
   "source": [
    "## Opener 1\n",
    "Buff first: Shifu > Jinpu > Yukikaze.\n",
    "\n",
    "Iaijutsu: Higanbana > Midare Setsugekka. \n",
    "\n",
    "Meikyo Shisui: generate second Midare Setsugekka. "
   ]
  },
  {
   "cell_type": "code",
   "execution_count": null,
   "metadata": {
    "collapsed": false
   },
   "outputs": [],
   "source": [
    "sam = Samurai()\n",
    "\n",
    "n_targets = 1\n",
    "\n",
    "actions = [('Hakaze'), ('Shifu'), ('Kasha'), ('Hakaze'),\n",
    "           ('Jinpu'), ('Higanbana'), ('Gekko'), ('Hakaze'),\n",
    "           ('Yukikaze'), ('Hakaze'), ('Shifu'), ('Kasha'),\n",
    "           ('Midare Setsugekka', 'Meikyo Shisui'), ('Kasha'), ('Gekko'), ('Yukikaze'), \n",
    "           ('Midare Setsugekka'), ('Hakaze'), ('Jinpu')]"
   ]
  },
  {
   "cell_type": "code",
   "execution_count": null,
   "metadata": {
    "collapsed": false,
    "scrolled": true
   },
   "outputs": [],
   "source": [
    "df0, average_potency, pps = sam.parse_rotation(actions)\n",
    "display(df0)"
   ]
  },
  {
   "cell_type": "code",
   "execution_count": null,
   "metadata": {
    "collapsed": false
   },
   "outputs": [],
   "source": [
    "plot_potency(df0)"
   ]
  },
  {
   "cell_type": "markdown",
   "metadata": {},
   "source": [
    "## Opener 2\n",
    "Similar to Opener 1, just prioritize Jinpu > Shifu > Yukikaze so that the Higanbana DoT is buffed earlier."
   ]
  },
  {
   "cell_type": "code",
   "execution_count": null,
   "metadata": {
    "collapsed": true
   },
   "outputs": [],
   "source": [
    "sam = Samurai()\n",
    "\n",
    "n_targets = 1\n",
    "\n",
    "actions = [('Hakaze'), ('Jinpu'), ('Gekko'), ('Higanbana'),\n",
    "           ('Hakaze'), ('Shifu'), ('Kasha'), ('Hakaze'),\n",
    "           ('Yukikaze'), ('Hakaze'), ('Jinpu'), ('Gekko'),\n",
    "           ('Midare Setsugekka', 'Meikyo Shisui'), ('Kasha'), ('Gekko'), ('Yukikaze'),\n",
    "           ('Midare Setsugekka'), ('Hakaze'), ('Jinpu')]"
   ]
  },
  {
   "cell_type": "code",
   "execution_count": null,
   "metadata": {
    "collapsed": false,
    "scrolled": true
   },
   "outputs": [],
   "source": [
    "df1, average_potency, pps = sam.parse_rotation(actions)\n",
    "display(df1)"
   ]
  },
  {
   "cell_type": "code",
   "execution_count": null,
   "metadata": {
    "collapsed": false
   },
   "outputs": [],
   "source": [
    "plot_potency(df1)"
   ]
  },
  {
   "cell_type": "markdown",
   "metadata": {},
   "source": [
    "## Opener 3\n",
    "Meikyo Shisui: Get buffs up ASAP. Since Iaijutsu consumes one charge of Meikyo Shisui, we must delay Higanbana.\n",
    "\n",
    "Buffs first: Shifu > Jinpu > Yukikaze.\n",
    "\n",
    "Iaijutsu: Midare Setsugekka > Higanbana."
   ]
  },
  {
   "cell_type": "code",
   "execution_count": null,
   "metadata": {
    "collapsed": false
   },
   "outputs": [],
   "source": [
    "sam = Samurai()\n",
    "\n",
    "n_targets = 1\n",
    "\n",
    "actions = [('Hakaze'), ('Shifu'), ('Kasha', 'Meikyo Shisui'),\n",
    "           ('Jinpu'), ('Gekko'), ('Yukikaze'), ('Midare Setsugekka'),\n",
    "           ('Hakaze'), ('Yukikaze'), ('Higanbana'), ('Hakaze'),\n",
    "           ('Shifu'), ('Kasha'), ('Hakaze'), ('Jinpu'),\n",
    "           ('Gekko'), ('Hakaze'), ('Yukikaze'), ('Midare Setsugekka')]"
   ]
  },
  {
   "cell_type": "code",
   "execution_count": null,
   "metadata": {
    "collapsed": false,
    "scrolled": true
   },
   "outputs": [],
   "source": [
    "df2, average_potency, pps = sam.parse_rotation(actions)\n",
    "display(df2)"
   ]
  },
  {
   "cell_type": "code",
   "execution_count": null,
   "metadata": {
    "collapsed": false
   },
   "outputs": [],
   "source": [
    "plot_potency(df2)"
   ]
  },
  {
   "cell_type": "markdown",
   "metadata": {},
   "source": [
    "## Opener 4\n",
    "Buffs up first: Shifu > Jinpu > Yukikaze\n",
    "\n",
    "Iaijutsu: Midare Setsugekka > Higanbana\n",
    "\n",
    "Meikyo Shisui: Generate second Midare Setsugekka"
   ]
  },
  {
   "cell_type": "code",
   "execution_count": null,
   "metadata": {
    "collapsed": true
   },
   "outputs": [],
   "source": [
    "sam = Samurai()\n",
    "\n",
    "n_targets = 1\n",
    "\n",
    "actions = [('Hakaze'), ('Shifu'), ('Kasha'), ('Hakaze'),\n",
    "           ('Jinpu'), ('Gekko'), ('Hakaze'), ('Yukikaze'),\n",
    "           ('Midare Setsugekka'), ('Hakaze'), ('Shifu'), ('Kasha'),\n",
    "           ('Higanbana', 'Meikyo Shisui'), ('Kasha'), ('Gekko'), ('Yukikaze'),\n",
    "           ('Midare Setsugekka'), ('Hakaze'), ('Jinpu')]"
   ]
  },
  {
   "cell_type": "code",
   "execution_count": null,
   "metadata": {
    "collapsed": false,
    "scrolled": true
   },
   "outputs": [],
   "source": [
    "df3, average_potency, pps = sam.parse_rotation(actions)\n",
    "display(df3)"
   ]
  },
  {
   "cell_type": "code",
   "execution_count": null,
   "metadata": {
    "collapsed": false
   },
   "outputs": [],
   "source": [
    "plot_potency(df3)"
   ]
  },
  {
   "cell_type": "markdown",
   "metadata": {},
   "source": [
    "## Opener 5\n",
    "Similar to Openers 1 and 2, but prioritizes Yukikaze > Shifu > Jinpu. This lets you put Higanbana one GCD earlier and, for parties without WAR, gets the slashing resistance down debuff up faster. A NIN may possibly get it up faster or at the same time if it opens with Shadow Fang combo due to Huton."
   ]
  },
  {
   "cell_type": "code",
   "execution_count": null,
   "metadata": {
    "collapsed": true
   },
   "outputs": [],
   "source": [
    "sam = Samurai()\n",
    "\n",
    "n_targets = 1\n",
    "\n",
    "actions = [('Hakaze'), ('Yukikaze'), ('Higanbana'), ('Hakaze'),\n",
    "           ('Shifu'), ('Kasha'), ('Hakaze'), ('Jinpu'),\n",
    "           ('Gekko'), ('Hakaze'), ('Yukikaze'), ('Midare Setsugekka', 'Meikyo Shisui'),\n",
    "           ('Kasha'), ('Gekko'), ('Yukikaze'), ('Midare Setsugekka'),\n",
    "           ('Hakaze'), ('Shifu'), ('Kasha')]"
   ]
  },
  {
   "cell_type": "code",
   "execution_count": null,
   "metadata": {
    "collapsed": false,
    "scrolled": true
   },
   "outputs": [],
   "source": [
    "df4, average_potency, pps = sam.parse_rotation(actions)\n",
    "display(df4)"
   ]
  },
  {
   "cell_type": "code",
   "execution_count": null,
   "metadata": {
    "collapsed": false
   },
   "outputs": [],
   "source": [
    "plot_potency(df4)"
   ]
  },
  {
   "cell_type": "code",
   "execution_count": null,
   "metadata": {
    "collapsed": false
   },
   "outputs": [],
   "source": [
    "dfs = [df4, df3, df2, df1, df0]\n",
    "labels = ['Opener 5', 'Opener 4', 'Opener 3', 'Opener 2', 'Opener 1']\n",
    "compare_n_potencies(dfs, labels)"
   ]
  },
  {
   "cell_type": "markdown",
   "metadata": {},
   "source": [
    "The time horizon was selected so that each opener had at least two Midare Setsugekka."
   ]
  },
  {
   "cell_type": "markdown",
   "metadata": {
    "collapsed": true
   },
   "source": [
    "These openers have fairly similar cumulative potencies over the selected time horizon. At level 50, you have no other offensive cooldowns when considering buff alignment. Party synergies will need to be considered to determine the best placement. (Maximizing potency delivered under party buffs.) Higanbana is applied at a different time and each opener bursts at different times. Since Higanbana and Midare Setsugekka have the highest effective potency per GCD (with DoT snapshot), getting those Iaijutsu under party buffs will differentiate these openers' potency significantly."
   ]
  },
  {
   "cell_type": "code",
   "execution_count": null,
   "metadata": {
    "collapsed": false
   },
   "outputs": [],
   "source": [
    "fig, ax = plt.subplots(figsize=(12, 4))\n",
    "\n",
    "for k, df in enumerate(dfs):\n",
    "    ax.plot(df['Time'], df['Potency'], label=labels[k])\n",
    "    ax.set_xlabel('Time')\n",
    "    ax.set_ylabel('Potency')\n",
    "    ax.legend(loc='upper left', framealpha=0.5)\n",
    "\n",
    "fig.suptitle('Opener Potency over Time')\n",
    "fig.tight_layout(pad=3)"
   ]
  },
  {
   "cell_type": "markdown",
   "metadata": {},
   "source": [
    "### Priority: Shifu > Jinpu > Yukikaze and Higanbana > Midare Setsugekka\n",
    "Since Yukikaze is applied to the target, refreshing it on a dying target is lesser of a priority. However, since it is necessary to open Setsu, it cannot be neglected.\n",
    "\n",
    "### Filler: Combos to refresh buffs, avoid wasting Sen.\n",
    "\n",
    "### AoE: Similar as lvl 40-49... avoid using Yukikaze in large pulls due to it being a target debuff, not a self buff.\n",
    "You will probably be using the AoE weaponskills -> Tenka Goken rotation anyway."
   ]
  },
  {
   "cell_type": "markdown",
   "metadata": {
    "collapsed": true
   },
   "source": [
    "## Extended simulations"
   ]
  },
  {
   "cell_type": "markdown",
   "metadata": {},
   "source": [
    "Openers are fine to look at it in a vacuum, but cooldown and buff alignment is difficult to see over short time horizons; do the buff/cooldown timings set you up nicely for the rest of the encounter? Let's look at how these openers transition into the priority system and look at an example of how a long single target encounter may go."
   ]
  },
  {
   "cell_type": "markdown",
   "metadata": {
    "collapsed": true
   },
   "source": [
    "### With Opener 5\n",
    "This opener had the highest average potency by a slim margin."
   ]
  },
  {
   "cell_type": "code",
   "execution_count": null,
   "metadata": {
    "collapsed": true
   },
   "outputs": [],
   "source": [
    "sam = Samurai()\n",
    "\n",
    "n_targets = 1\n",
    "\n",
    "actions = [('Hakaze'), ('Yukikaze'), ('Higanbana'), ('Hakaze'),\n",
    "           ('Shifu'), ('Kasha'), ('Hakaze'), ('Jinpu'),\n",
    "           ('Gekko'), ('Hakaze'), ('Yukikaze'), ('Midare Setsugekka', 'Meikyo Shisui'),\n",
    "           ('Kasha'), ('Gekko'), ('Yukikaze'), ('Midare Setsugekka'),\n",
    "           ('Hakaze'), ('Shifu'), ('Kasha'), ('Hakaze'), \n",
    "           ('Jinpu'), ('Gekko'), ('Hakaze'), ('Yukikaze'),\n",
    "           ('Midare Setsugekka'), ('Hakaze'), ('Shifu'), ('Kasha'),\n",
    "           ('Higanbana'), ('Hakaze'), ('Jinpu'), ('Gekko'),\n",
    "           ('Hakaze'), ('Yukikaze'), ('Hakaze'), ('Shifu'),\n",
    "           ('Kasha'), ('Midare Setsugekka'), ('Hakaze'), ('Jinpu'),\n",
    "           ('Gekko'), ('Hakaze'), ('Yukikaze'), ('Hakaze'),\n",
    "           ('Shifu'), ('Kasha'), ('Midare Setsugekka'), ('Hakaze'), # Meikyo Shisui should be coming off c/d next.\n",
    "           ('Jinpu'), ('Gekko'), ('Hakaze'), ('Yukikaze'),\n",
    "           ('Hakaze'), ('Shifu'), ('Kasha'), ('Midare Setsugekka'), # Higanbana DoT should be falling off...\n",
    "           ('Hakaze'), ('Jinpu'), ('Gekko'), ('Higanbana', 'Meikyo Shisui'),\n",
    "           ('Yukikaze'), ('Kasha'), ('Gekko'), ('Midare Setsugekka')]"
   ]
  },
  {
   "cell_type": "code",
   "execution_count": null,
   "metadata": {
    "collapsed": false,
    "scrolled": true
   },
   "outputs": [],
   "source": [
    "df4_ext, average_potency, pps = sam.parse_rotation(actions)\n",
    "display(df4_ext)"
   ]
  },
  {
   "cell_type": "code",
   "execution_count": null,
   "metadata": {
    "collapsed": false
   },
   "outputs": [],
   "source": [
    "plot_potency(df4_ext, truncate_actions=True)"
   ]
  },
  {
   "cell_type": "markdown",
   "metadata": {
    "collapsed": true
   },
   "source": [
    "Interestingly enough, the average potency this long into the encounter is actually higher than after the opener. This can be attributed to the lack of stacking damage buffs that we can blow into the opener. \n",
    "\n",
    "One observed issue through this simulation is the timing of Higanbana's DoT and Meikyo Shisui coming off cooldown. As commented in the actions list, Meikyo Shisui comes off cooldown for quite a while before an optimal time to use it is presented. It should be off cooldown at around index 48; this is right before a Sen is opened via combo finisher. With the MO of using Meikyo Shisui exclusively to open three Sen in a row, this means we must wait until after we naturally open these Sen (at index 54). Furthermore, the third Higanbana is due to be applied at approximately index 55. Since this is when Midare Setsugekka is ready, we must delay. At this juncture, we must decide if we let Higanbana's DoT fall off for four more GCDs (about 3-4 ticks) in order to to get Meikyo Shisui back on cooldown after a double Midare Setsugekka. The other option would be to get Higanbana applied ASAP. \n",
    "\n",
    "The usual answer for this dilemma is constrained by the number of Meikyo Shisui uses available in the encounter. If delaying using Meikyo Shisui too long results in one less use of it, then we should lean towards letting Higanbana drop a few ticks if it lets us use Meikyo Shisui sooner."
   ]
  },
  {
   "cell_type": "markdown",
   "metadata": {},
   "source": [
    "### With Opener 3\n",
    "This opener had the lowest average potency, but got buffs up faster and got Meikyo Shisui on cooldown the soonest. This difference in buff/DoT timing is worth exploring"
   ]
  },
  {
   "cell_type": "code",
   "execution_count": null,
   "metadata": {
    "collapsed": true
   },
   "outputs": [],
   "source": [
    "sam = Samurai()\n",
    "\n",
    "n_targets = 1\n",
    "\n",
    "actions = [('Hakaze'), ('Shifu'), ('Kasha', 'Meikyo Shisui'),\n",
    "           ('Jinpu'), ('Gekko'), ('Yukikaze'), ('Midare Setsugekka'),\n",
    "           ('Hakaze'), ('Yukikaze'), ('Higanbana'), ('Hakaze'),\n",
    "           ('Shifu'), ('Kasha'), ('Hakaze'), ('Jinpu'),\n",
    "           ('Gekko'), ('Hakaze'), ('Yukikaze'), ('Midare Setsugekka'),\n",
    "           ('Hakaze'), ('Shifu'), ('Kasha'), ('Hakaze'),\n",
    "           ('Jinpu'), ('Gekko'), ('Hakaze'), ('Yukikaze'),\n",
    "           ('Midare Setsugekka'), ('Hakaze'), ('Shifu'), ('Kasha'),\n",
    "           ('Hakaze'), ('Jinpu'), ('Gekko'), ('Hakaze'),\n",
    "           ('Yukikaze'), ('Midare Setsugekka'), ('Hakaze'), ('Shifu'),\n",
    "           ('Kasha'), ('Higanbana', 'Meikyo Shisui'), ('Gekko'), ('Yukikaze'),\n",
    "           ('Kasha'), ('Midare Setsugekka'), ('Hakaze'), ('Jinpu'),\n",
    "           ('Gekko'), ('Hakaze'), ('Shifu'), ('Kasha'),\n",
    "           ('Hakaze'), ('Yukikaze'), ('Midare Setsugekka'), ('Hakaze'),\n",
    "           ('Jinpu'), ('Gekko'), ('Hakaze'), ('Shifu'),\n",
    "           ('Kasha'), ('Hakaze'), ('Yukikaze'), ('Midare Setsugekka')]"
   ]
  },
  {
   "cell_type": "code",
   "execution_count": null,
   "metadata": {
    "collapsed": false,
    "scrolled": true
   },
   "outputs": [],
   "source": [
    "df2_ext, average_potency, pps = sam.parse_rotation(actions)\n",
    "display(df2_ext)"
   ]
  },
  {
   "cell_type": "markdown",
   "metadata": {
    "collapsed": true
   },
   "source": [
    "The timing here is better. An optimal window for Meikyo Shisui presents itself right after it comes off cooldown. We do end up dropping Higanbana DoT for about 7 seconds though, although that was the case in the previous rotation. The overall potency per second or potency per GCD are similar. "
   ]
  },
  {
   "cell_type": "code",
   "execution_count": null,
   "metadata": {
    "collapsed": false
   },
   "outputs": [],
   "source": [
    "compare_potencies([df4_ext, df2_ext], labels=['With Opener 5', 'With Opener 3'])"
   ]
  },
  {
   "cell_type": "markdown",
   "metadata": {},
   "source": [
    "Ultimately, with only weaponskills to play with, one buff, and one DoT, there is a limited degree of complexity in the single target rotation at level 50. Following the described priority system for weaponskills, using Iaijutsu intelligently, and keeping the GCD moving, you will be close to optimal output."
   ]
  },
  {
   "cell_type": "code",
   "execution_count": null,
   "metadata": {
    "collapsed": true
   },
   "outputs": [],
   "source": []
  }
 ],
 "metadata": {
  "kernelspec": {
   "display_name": "Python 2",
   "language": "python",
   "name": "python2"
  },
  "language_info": {
   "codemirror_mode": {
    "name": "ipython",
    "version": 2
   },
   "file_extension": ".py",
   "mimetype": "text/x-python",
   "name": "python",
   "nbconvert_exporter": "python",
   "pygments_lexer": "ipython2",
   "version": "2.7.13"
  }
 },
 "nbformat": 4,
 "nbformat_minor": 0
}
