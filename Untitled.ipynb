{
 "cells": [
  {
   "cell_type": "code",
   "execution_count": 1,
   "metadata": {
    "collapsed": false
   },
   "outputs": [],
   "source": [
    "from samurai import *\n",
    "from plotting import *\n",
    "\n",
    "import matplotlib.pyplot as plt\n",
    "import pandas as pd\n",
    "import numpy as np\n",
    "import seaborn as sb\n",
    "from IPython.display import display\n",
    "%matplotlib inline"
   ]
  },
  {
   "cell_type": "code",
   "execution_count": 2,
   "metadata": {
    "collapsed": false
   },
   "outputs": [
    {
     "data": {
      "text/html": [
       "<div>\n",
       "<table border=\"1\" class=\"dataframe\">\n",
       "  <thead>\n",
       "    <tr style=\"text-align: right;\">\n",
       "      <th></th>\n",
       "      <th>Weaponskill</th>\n",
       "      <th>Ability</th>\n",
       "      <th>Potency</th>\n",
       "      <th>Total Potency</th>\n",
       "    </tr>\n",
       "  </thead>\n",
       "  <tbody>\n",
       "    <tr>\n",
       "      <th>0</th>\n",
       "      <td>Hakaze</td>\n",
       "      <td></td>\n",
       "      <td>150.000000</td>\n",
       "      <td>150.000000</td>\n",
       "    </tr>\n",
       "    <tr>\n",
       "      <th>1</th>\n",
       "      <td>Shifu</td>\n",
       "      <td></td>\n",
       "      <td>280.000000</td>\n",
       "      <td>430.000000</td>\n",
       "    </tr>\n",
       "    <tr>\n",
       "      <th>2</th>\n",
       "      <td>Kasha</td>\n",
       "      <td></td>\n",
       "      <td>444.000000</td>\n",
       "      <td>874.000000</td>\n",
       "    </tr>\n",
       "    <tr>\n",
       "      <th>3</th>\n",
       "      <td>Higanbana</td>\n",
       "      <td></td>\n",
       "      <td>266.400000</td>\n",
       "      <td>1140.400000</td>\n",
       "    </tr>\n",
       "    <tr>\n",
       "      <th>4</th>\n",
       "      <td>Hakaze</td>\n",
       "      <td>Meikyo Shisui</td>\n",
       "      <td>214.227273</td>\n",
       "      <td>1354.627273</td>\n",
       "    </tr>\n",
       "    <tr>\n",
       "      <th>5</th>\n",
       "      <td>Gekko</td>\n",
       "      <td></td>\n",
       "      <td>491.727273</td>\n",
       "      <td>1846.354545</td>\n",
       "    </tr>\n",
       "    <tr>\n",
       "      <th>6</th>\n",
       "      <td>Yukikaze</td>\n",
       "      <td></td>\n",
       "      <td>425.127273</td>\n",
       "      <td>2271.481818</td>\n",
       "    </tr>\n",
       "    <tr>\n",
       "      <th>7</th>\n",
       "      <td>Kasha</td>\n",
       "      <td></td>\n",
       "      <td>540.567273</td>\n",
       "      <td>2812.049091</td>\n",
       "    </tr>\n",
       "    <tr>\n",
       "      <th>8</th>\n",
       "      <td>Gekko</td>\n",
       "      <td></td>\n",
       "      <td>170.937273</td>\n",
       "      <td>2982.986364</td>\n",
       "    </tr>\n",
       "  </tbody>\n",
       "</table>\n",
       "</div>"
      ],
      "text/plain": [
       "  Weaponskill        Ability     Potency  Total Potency\n",
       "0      Hakaze                 150.000000     150.000000\n",
       "1       Shifu                 280.000000     430.000000\n",
       "2       Kasha                 444.000000     874.000000\n",
       "3   Higanbana                 266.400000    1140.400000\n",
       "4      Hakaze  Meikyo Shisui  214.227273    1354.627273\n",
       "5       Gekko                 491.727273    1846.354545\n",
       "6    Yukikaze                 425.127273    2271.481818\n",
       "7       Kasha                 540.567273    2812.049091\n",
       "8       Gekko                 170.937273    2982.986364"
      ]
     },
     "execution_count": 2,
     "metadata": {},
     "output_type": "execute_result"
    }
   ],
   "source": [
    "sam = Samurai()\n",
    "\n",
    "actions = [('Hakaze'), \n",
    "           ('Shifu'),\n",
    "           ('Kasha'),\n",
    "           ('Higanbana'),\n",
    "           ('Hakaze', 'Meikyo Shisui'),\n",
    "           ('Gekko'),\n",
    "           ('Yukikaze'),\n",
    "           ('Kasha'),\n",
    "           ('Gekko')]\n",
    "sam.parse_rotation(actions, 2)"
   ]
  },
  {
   "cell_type": "code",
   "execution_count": null,
   "metadata": {
    "collapsed": true
   },
   "outputs": [],
   "source": []
  }
 ],
 "metadata": {
  "kernelspec": {
   "display_name": "Python 2",
   "language": "python",
   "name": "python2"
  },
  "language_info": {
   "codemirror_mode": {
    "name": "ipython",
    "version": 2
   },
   "file_extension": ".py",
   "mimetype": "text/x-python",
   "name": "python",
   "nbconvert_exporter": "python",
   "pygments_lexer": "ipython2",
   "version": "2.7.13"
  }
 },
 "nbformat": 4,
 "nbformat_minor": 2
}
