{
 "cells": [
  {
   "cell_type": "markdown",
   "metadata": {},
   "source": [
    "<a id=\"header\"></a>\n",
    "# Part 5: miscellaneous topics"
   ]
  },
  {
   "cell_type": "code",
   "execution_count": 1,
   "metadata": {},
   "outputs": [
    {
     "name": "stderr",
     "output_type": "stream",
     "text": [
      "/Users/rconcep/anaconda/lib/python3.6/importlib/_bootstrap.py:205: RuntimeWarning: compiletime version 3.4 of module 'mtrand' does not match runtime version 3.6\n",
      "  return f(*args, **kwds)\n",
      "/Users/rconcep/anaconda/lib/python3.6/importlib/_bootstrap.py:205: RuntimeWarning: compiletime version 3.4 of module 'pandas.hashtable' does not match runtime version 3.6\n",
      "  return f(*args, **kwds)\n",
      "/Users/rconcep/anaconda/lib/python3.6/importlib/_bootstrap.py:205: RuntimeWarning: builtins.type size changed, may indicate binary incompatibility. Expected 864, got 824\n",
      "  return f(*args, **kwds)\n",
      "/Users/rconcep/anaconda/lib/python3.6/importlib/_bootstrap.py:205: RuntimeWarning: compiletime version 3.4 of module 'pandas.tslib' does not match runtime version 3.6\n",
      "  return f(*args, **kwds)\n",
      "/Users/rconcep/anaconda/lib/python3.6/importlib/_bootstrap.py:205: RuntimeWarning: compiletime version 3.4 of module 'pandas.lib' does not match runtime version 3.6\n",
      "  return f(*args, **kwds)\n",
      "/Users/rconcep/anaconda/lib/python3.6/importlib/_bootstrap.py:205: RuntimeWarning: compiletime version 3.4 of module 'pandas.algos' does not match runtime version 3.6\n",
      "  return f(*args, **kwds)\n",
      "/Users/rconcep/anaconda/lib/python3.6/importlib/_bootstrap.py:205: RuntimeWarning: compiletime version 3.4 of module 'pandas._join' does not match runtime version 3.6\n",
      "  return f(*args, **kwds)\n",
      "/Users/rconcep/anaconda/lib/python3.6/importlib/_bootstrap.py:205: RuntimeWarning: compiletime version 3.4 of module 'pandas.index' does not match runtime version 3.6\n",
      "  return f(*args, **kwds)\n",
      "/Users/rconcep/anaconda/lib/python3.6/importlib/_bootstrap.py:205: RuntimeWarning: compiletime version 3.4 of module 'pandas._period' does not match runtime version 3.6\n",
      "  return f(*args, **kwds)\n",
      "/Users/rconcep/anaconda/lib/python3.6/importlib/_bootstrap.py:205: RuntimeWarning: builtins.type size changed, may indicate binary incompatibility. Expected 864, got 824\n",
      "  return f(*args, **kwds)\n",
      "/Users/rconcep/anaconda/lib/python3.6/importlib/_bootstrap.py:205: RuntimeWarning: compiletime version 3.4 of module 'pandas._sparse' does not match runtime version 3.6\n",
      "  return f(*args, **kwds)\n",
      "/Users/rconcep/anaconda/lib/python3.6/importlib/_bootstrap.py:205: RuntimeWarning: compiletime version 3.4 of module 'pandas._window' does not match runtime version 3.6\n",
      "  return f(*args, **kwds)\n",
      "/Users/rconcep/anaconda/lib/python3.6/importlib/_bootstrap.py:205: RuntimeWarning: compiletime version 3.4 of module 'pandas.parser' does not match runtime version 3.6\n",
      "  return f(*args, **kwds)\n",
      "/Users/rconcep/anaconda/lib/python3.6/importlib/_bootstrap.py:205: RuntimeWarning: compiletime version 3.4 of module 'pandas.msgpack._packer' does not match runtime version 3.6\n",
      "  return f(*args, **kwds)\n",
      "/Users/rconcep/anaconda/lib/python3.6/importlib/_bootstrap.py:205: RuntimeWarning: compiletime version 3.4 of module 'pandas.msgpack._unpacker' does not match runtime version 3.6\n",
      "  return f(*args, **kwds)\n",
      "/Users/rconcep/anaconda/lib/python3.6/importlib/_bootstrap.py:205: RuntimeWarning: compiletime version 3.4 of module 'pandas._testing' does not match runtime version 3.6\n",
      "  return f(*args, **kwds)\n",
      "/Users/rconcep/anaconda/lib/python3.6/importlib/_bootstrap.py:205: RuntimeWarning: compiletime version 3.4 of module 'scipy._lib._ccallback_c' does not match runtime version 3.6\n",
      "  return f(*args, **kwds)\n",
      "/Users/rconcep/anaconda/lib/python3.6/importlib/_bootstrap.py:205: RuntimeWarning: builtins.type size changed, may indicate binary incompatibility. Expected 864, got 824\n",
      "  return f(*args, **kwds)\n",
      "/Users/rconcep/anaconda/lib/python3.6/importlib/_bootstrap.py:205: RuntimeWarning: compiletime version 3.4 of module 'scipy.special._ufuncs' does not match runtime version 3.6\n",
      "  return f(*args, **kwds)\n",
      "/Users/rconcep/anaconda/lib/python3.6/importlib/_bootstrap.py:205: RuntimeWarning: builtins.type size changed, may indicate binary incompatibility. Expected 864, got 824\n",
      "  return f(*args, **kwds)\n",
      "/Users/rconcep/anaconda/lib/python3.6/importlib/_bootstrap.py:205: RuntimeWarning: compiletime version 3.4 of module 'scipy.special._ufuncs_cxx' does not match runtime version 3.6\n",
      "  return f(*args, **kwds)\n",
      "/Users/rconcep/anaconda/lib/python3.6/importlib/_bootstrap.py:205: RuntimeWarning: compiletime version 3.4 of module 'scipy.linalg._solve_toeplitz' does not match runtime version 3.6\n",
      "  return f(*args, **kwds)\n",
      "/Users/rconcep/anaconda/lib/python3.6/importlib/_bootstrap.py:205: RuntimeWarning: compiletime version 3.4 of module 'scipy.linalg._decomp_update' does not match runtime version 3.6\n",
      "  return f(*args, **kwds)\n",
      "/Users/rconcep/anaconda/lib/python3.6/importlib/_bootstrap.py:205: RuntimeWarning: compiletime version 3.4 of module 'scipy.linalg.cython_blas' does not match runtime version 3.6\n",
      "  return f(*args, **kwds)\n",
      "/Users/rconcep/anaconda/lib/python3.6/importlib/_bootstrap.py:205: RuntimeWarning: compiletime version 3.4 of module 'scipy.linalg.cython_lapack' does not match runtime version 3.6\n",
      "  return f(*args, **kwds)\n",
      "/Users/rconcep/anaconda/lib/python3.6/importlib/_bootstrap.py:205: RuntimeWarning: compiletime version 3.4 of module 'scipy.special._comb' does not match runtime version 3.6\n",
      "  return f(*args, **kwds)\n",
      "/Users/rconcep/anaconda/lib/python3.6/importlib/_bootstrap.py:205: RuntimeWarning: compiletime version 3.4 of module 'scipy.special._ellip_harm_2' does not match runtime version 3.6\n",
      "  return f(*args, **kwds)\n",
      "/Users/rconcep/anaconda/lib/python3.6/importlib/_bootstrap.py:205: RuntimeWarning: compiletime version 3.4 of module 'scipy.sparse._csparsetools' does not match runtime version 3.6\n",
      "  return f(*args, **kwds)\n",
      "/Users/rconcep/anaconda/lib/python3.6/importlib/_bootstrap.py:205: RuntimeWarning: compiletime version 3.4 of module 'scipy.sparse.csgraph._shortest_path' does not match runtime version 3.6\n",
      "  return f(*args, **kwds)\n",
      "/Users/rconcep/anaconda/lib/python3.6/importlib/_bootstrap.py:205: RuntimeWarning: compiletime version 3.4 of module 'scipy.sparse.csgraph._tools' does not match runtime version 3.6\n",
      "  return f(*args, **kwds)\n",
      "/Users/rconcep/anaconda/lib/python3.6/importlib/_bootstrap.py:205: RuntimeWarning: compiletime version 3.4 of module 'scipy.sparse.csgraph._traversal' does not match runtime version 3.6\n",
      "  return f(*args, **kwds)\n",
      "/Users/rconcep/anaconda/lib/python3.6/importlib/_bootstrap.py:205: RuntimeWarning: compiletime version 3.4 of module 'scipy.sparse.csgraph._min_spanning_tree' does not match runtime version 3.6\n",
      "  return f(*args, **kwds)\n",
      "/Users/rconcep/anaconda/lib/python3.6/importlib/_bootstrap.py:205: RuntimeWarning: compiletime version 3.4 of module 'scipy.sparse.csgraph._reordering' does not match runtime version 3.6\n",
      "  return f(*args, **kwds)\n",
      "/Users/rconcep/anaconda/lib/python3.6/importlib/_bootstrap.py:205: RuntimeWarning: compiletime version 3.4 of module 'scipy.optimize._group_columns' does not match runtime version 3.6\n",
      "  return f(*args, **kwds)\n",
      "/Users/rconcep/anaconda/lib/python3.6/importlib/_bootstrap.py:205: RuntimeWarning: compiletime version 3.4 of module 'scipy.optimize._lsq.givens_elimination' does not match runtime version 3.6\n",
      "  return f(*args, **kwds)\n",
      "/Users/rconcep/anaconda/lib/python3.6/importlib/_bootstrap.py:205: RuntimeWarning: compiletime version 3.4 of module 'scipy.interpolate._bspl' does not match runtime version 3.6\n",
      "  return f(*args, **kwds)\n",
      "/Users/rconcep/anaconda/lib/python3.6/importlib/_bootstrap.py:205: RuntimeWarning: compiletime version 3.4 of module 'scipy.interpolate._ppoly' does not match runtime version 3.6\n",
      "  return f(*args, **kwds)\n",
      "/Users/rconcep/anaconda/lib/python3.6/importlib/_bootstrap.py:205: RuntimeWarning: compiletime version 3.4 of module 'scipy.interpolate.interpnd' does not match runtime version 3.6\n",
      "  return f(*args, **kwds)\n",
      "/Users/rconcep/anaconda/lib/python3.6/importlib/_bootstrap.py:205: RuntimeWarning: compiletime version 3.4 of module 'scipy.spatial.ckdtree' does not match runtime version 3.6\n",
      "  return f(*args, **kwds)\n",
      "/Users/rconcep/anaconda/lib/python3.6/importlib/_bootstrap.py:205: RuntimeWarning: compiletime version 3.4 of module 'scipy.spatial.qhull' does not match runtime version 3.6\n",
      "  return f(*args, **kwds)\n",
      "/Users/rconcep/anaconda/lib/python3.6/importlib/_bootstrap.py:205: RuntimeWarning: compiletime version 3.4 of module 'scipy.spatial._voronoi' does not match runtime version 3.6\n",
      "  return f(*args, **kwds)\n",
      "/Users/rconcep/anaconda/lib/python3.6/importlib/_bootstrap.py:205: RuntimeWarning: compiletime version 3.4 of module 'scipy.spatial._hausdorff' does not match runtime version 3.6\n",
      "  return f(*args, **kwds)\n",
      "/Users/rconcep/anaconda/lib/python3.6/importlib/_bootstrap.py:205: RuntimeWarning: compiletime version 3.4 of module 'scipy.stats._stats' does not match runtime version 3.6\n",
      "  return f(*args, **kwds)\n",
      "/Users/rconcep/anaconda/lib/python3.6/importlib/_bootstrap.py:205: RuntimeWarning: compiletime version 3.4 of module 'scipy.cluster._vq' does not match runtime version 3.6\n",
      "  return f(*args, **kwds)\n",
      "/Users/rconcep/anaconda/lib/python3.6/importlib/_bootstrap.py:205: RuntimeWarning: builtins.type size changed, may indicate binary incompatibility. Expected 864, got 824\n",
      "  return f(*args, **kwds)\n",
      "/Users/rconcep/anaconda/lib/python3.6/importlib/_bootstrap.py:205: RuntimeWarning: compiletime version 3.4 of module 'scipy.cluster._hierarchy' does not match runtime version 3.6\n",
      "  return f(*args, **kwds)\n"
     ]
    }
   ],
   "source": [
    "from samurai import *\n",
    "from plotting import *\n",
    "\n",
    "import matplotlib.pyplot as plt\n",
    "import pandas as pd\n",
    "import numpy as np\n",
    "import seaborn as sb\n",
    "from IPython.display import display\n",
    "%matplotlib inline\n",
    "\n",
    "pd.options.display.max_rows = None"
   ]
  },
  {
   "cell_type": "markdown",
   "metadata": {},
   "source": [
    "## On buff priority\n",
    "\n",
    "asdf"
   ]
  },
  {
   "cell_type": "markdown",
   "metadata": {
    "collapsed": true
   },
   "source": [
    "## On Meikyo Shisui\n",
    "asdf"
   ]
  },
  {
   "cell_type": "markdown",
   "metadata": {},
   "source": [
    "## On Kenki spending\n",
    "As I've iterated, Kenki grants access to just about all of your damage-dealing abilities which are, cumulatively, an enormous share of your potential DPS. Economical spending of Kenki is therefore essential to maximizing your DPS.\n",
    "\n",
    "Throughout the leveling process, we gain a number of Kenki spenders. We examine their value by their potency per Kenki (ppK) in order to evaluate their usefulness.\n",
    "\n",
    "### For single target situations:\n",
    "\n",
    "1) Hissatsu: Guren (16 ppK)\n",
    "    * Although at a lower ppK than 2), its potency is from the ability and not a weaponskill. It does not directly compete with Midare Setsugekka; it only competes via Hagakure usage.\n",
    "    \n",
    "2) Hissatsu: Kaiten on Midare Setsugekka (18 ppK)\n",
    "\n",
    "3) Hissatsu: Seigan (~13 ppK)\n",
    "\n",
    "4) Hissatsu: Shinten (12 ppK)\n",
    "\n",
    "5) Hissatsu: Gyoten / Yaten (10 ppK)\n",
    "\n",
    "### For multiple target situations:\n",
    "\n",
    "1) Hissatsu: Guren (>16 ppK)\n",
    "\n",
    "2) Hissatsu: Kaiten on Tenka Goken (>9 ppK)\n",
    "\n",
    "3) Hissatsu: Kyuten (6n ppK)\n",
    "    * We examined the tradeoff between 2) and 3) in Part 4. In short, always have Kenki to use on Hissatsu: Kaiten for Tenka Goken. Excess Kenki goes to Hissatsu: Kyuten. With the Fuga, Oka, Fuga, Mangetsu combo generating 30 Kenki total, this should always be possible.\n",
    "\n",
    "Kenki capping is a risk especially when using Hagakure to convert three Sen. The penalty for doing so may be determined via the ppK values above. Since Kenki is quantized in units of 5, the potency losses are not insignificant. These losses are, however, only realized if they would have been spendable in the first place. For example, if you overflowed Kenki by 5 but ended the encounter with 0 Kenki, then you haven't lost anything because that 5 Kenki could not have been spent anyway. However, if you instead ended with 5 Kenki, it is a loss of 100 potency because you could have spent the 10 Kenki on Hissatsu: Gyoten / Yaten.\n",
    "\n",
    "Along those lines, while we strive to convert all Kenki into Hissatsu: Seigan / Shinten (in single target situations), ending an encounter with Kenki left on the table is a definite loss. Although typically less than ideal, dump Kenki into Hissatsu: Gyoten / Yaten if it means Kenki goes unused otherwise."
   ]
  },
  {
   "cell_type": "markdown",
   "metadata": {},
   "source": [
    "## On Hissatsu: Gyoten / Yaten\n",
    "The difference in ppK between Hissatsu: Shinten and Hissatsu: Gyoten is miniscule but there. The utility of a gap closer is increasing uptime via reduction of transit time. The increase in auto attacks from using Hissatsu: Gyoten should alone make it worth it; the increased weaponskill uptime for Sen and Kenki generation seals the deal. Use Hissatsu: Gyoten whenever you need the gap closer.\n",
    "\n",
    "Hissatsu: Yaten is a little more subtle. The Enhanced Enpi proc granted increases the potency of the next Enpi you use to 300. Using this Enhanced Enpi gives you time to move back into range and refunds the Kenki cost of using Hissatsu: Yaten. Furthermore, the increased potency offsets the loss from not being able to do your weaponskill combos. (The Gekko/Kasha combos average ~276 potency per GCD plus the Kenki generated.) You may also argue that if you use Hissatsu: Yaten to stay active longer before disengaging to dodge adds benefit from increased uptime.\n",
    "\n",
    "If our goal is to not take damage from point blank AoE attacks, then our options are:\n",
    "\n",
    "1) Disengage early to dodge, then:\n",
    "\n",
    "    1) Run back into range\n",
    "    \n",
    "    2) Hissatsu: Gyoten back into range\n",
    "\n",
    "2) Use Hissatsu: Yaten to dodge, then:\n",
    "\n",
    "    1) Run back into range\n",
    "    \n",
    "    2) Enpi, then run back into range\n",
    "    \n",
    "    3) Enpi, then Hissatsu: Gyoten back into range\n",
    "\n",
    "Disengaging early and running back into range saves Kenki at the cost of reduced uptime. If that saved Kenki is instead spent on Hissatsu: Shinten, that is a gain of 2 ppK. If we lost weaponskills due to lost uptime, e.g., we lost between 5 and 10 Kenki in addition to the weaponskill potency and auto attacks. It is difficult to imagine a scenario where we would want to take the loss in uptime.\n",
    "\n",
    "Using Hissatsu: Yaten to dodge incurs the cost of the reduced ppK but not of reduced uptime or related weaponskill losses (since it is off the GCD). The next decision is if you use the Enhanced Enpi proc or not. As stated, the increased potency plus Kenki refund is more than sufficient to make it worth using, especially if the alternative is doing nothing. \n",
    "\n",
    "The final decision is if you use Hissatsu: Gyoten to get back into range. Once again, the tradeoff is reduced Kenki efficiency versus increased uptime. If the dodge maneuver is executed efficienctly, then the GCD after using Enpi will most likely be enough to return to the target without clipping the following GCD. Therefore, the tension is between auto attack uptime and Kenki savings. If auto attacks are approximately 100 potency, then using Hissatsu: Gyoten to close the gap is worth it if at least one auto attack is gained as a result. However, if the Kenki spent on Hissatsu: Gyoten prevents you from using a Hissatsu: Shinten later on, then running back into range would have been the better option."
   ]
  },
  {
   "cell_type": "markdown",
   "metadata": {},
   "source": [
    "## On Third Eye\n",
    "This defensive ability with a short cooldown offers a modest one time damage taken reduction. Additionally, it grants the Open Eyes status, enabling the use of either Merciful Eyes or Hissatsu: Seigan. \n",
    "\n",
    "Merciful Eyes's healing potency was reduced since the media tour tool tip release by a factor of 3. What was once a frequently available Second Wind alternative has been reduced to a pitiful 200 potency heal. In my experience, this is enough to offset an auto attack while, for example, face-tanking a FATE boss. As such, use Open Eyes for Merciful Eyes if you are desparate.\n",
    "\n",
    "On the other hand, the ability formerly known as Starry Eyes, Hissatsu: Seigan, which was useless due to its high Kenki cost according to the media tour tool tips, has since found its calling along with its renaming to be inline with the other Kenki spenders. At a potency of 200 with a Kenki cost of 15, its potency per Kenki ratio of ~13 ranks it third among Kenki spenders, beating out the gold standard of Hissatsu: Shinten (at a potency per Kenki ratio of 12).\n",
    "\n",
    "This grants an avenue of optimization in which you try to make sure you activate Third Eye before as many (unavoidable) damage situations as you can. Kenki that would have gone to a Hissatsu: Shinten dump may then be used on Hissatsu: Seigan instead for a theoretical DPS gain. The modest duration of the Open Eyes status (15s) enables you to spend the Open Eyes at your convenience (e.g., you currently only have enough Kenki for an upcoming Hissatsu: Kaiten for Midare Setsugekka, which takes priority).\n",
    "\n",
    "Of course, this theoretical DPS gain means nothing if the Kenki difference is not made up by the end of the encounter; if you end the encounter with 10 spare Kenki, then a Hissatsu: Shinten should've been used instead.\n",
    "\n",
    "Try taking advantage of Third Eye on fights like Susano EX! There's raidwide damage with cast bars (Unkehi), targeted damage (stack after knockback, targeted lightning), raidwide damage without cast bars (during the parry active time maneuver)."
   ]
  },
  {
   "cell_type": "markdown",
   "metadata": {},
   "source": [
    "## On Hagakure\n",
    "asdf"
   ]
  },
  {
   "cell_type": "code",
   "execution_count": 10,
   "metadata": {
    "collapsed": true
   },
   "outputs": [],
   "source": [
    "sam = Samurai(kenki_mastery=True)\n",
    "\n",
    "sam.meikyo_shisui()\n",
    "\n",
    "actions = [('Kasha'), ('Gekko'), ('Tenka Goken'), ('Yukikaze'), ('Kasha')]"
   ]
  },
  {
   "cell_type": "code",
   "execution_count": 11,
   "metadata": {},
   "outputs": [
    {
     "name": "stdout",
     "output_type": "stream",
     "text": [
      "average potency per GCD = 322.2\n",
      "average potency per second = 134.25\n"
     ]
    },
    {
     "data": {
      "text/html": [
       "<div>\n",
       "<table border=\"1\" class=\"dataframe\">\n",
       "  <thead>\n",
       "    <tr style=\"text-align: right;\">\n",
       "      <th></th>\n",
       "      <th>Time</th>\n",
       "      <th>Weaponskill</th>\n",
       "      <th>Ability</th>\n",
       "      <th>Potency</th>\n",
       "      <th>Jinpu</th>\n",
       "      <th>Shifu</th>\n",
       "      <th>Yukikaze</th>\n",
       "      <th>Higanbana</th>\n",
       "      <th>Kenki</th>\n",
       "      <th>Total Potency</th>\n",
       "    </tr>\n",
       "  </thead>\n",
       "  <tbody>\n",
       "    <tr>\n",
       "      <th>0</th>\n",
       "      <td>0.0</td>\n",
       "      <td>Kasha</td>\n",
       "      <td></td>\n",
       "      <td>400.0</td>\n",
       "      <td>False</td>\n",
       "      <td>False</td>\n",
       "      <td>False</td>\n",
       "      <td>0</td>\n",
       "      <td>0</td>\n",
       "      <td>400.0</td>\n",
       "    </tr>\n",
       "    <tr>\n",
       "      <th>1</th>\n",
       "      <td>2.4</td>\n",
       "      <td>Gekko</td>\n",
       "      <td></td>\n",
       "      <td>400.0</td>\n",
       "      <td>False</td>\n",
       "      <td>False</td>\n",
       "      <td>False</td>\n",
       "      <td>0</td>\n",
       "      <td>10</td>\n",
       "      <td>800.0</td>\n",
       "    </tr>\n",
       "    <tr>\n",
       "      <th>2</th>\n",
       "      <td>4.8</td>\n",
       "      <td>Tenka Goken</td>\n",
       "      <td></td>\n",
       "      <td>360.0</td>\n",
       "      <td>False</td>\n",
       "      <td>False</td>\n",
       "      <td>False</td>\n",
       "      <td>0</td>\n",
       "      <td>20</td>\n",
       "      <td>1160.0</td>\n",
       "    </tr>\n",
       "    <tr>\n",
       "      <th>3</th>\n",
       "      <td>7.2</td>\n",
       "      <td>Yukikaze</td>\n",
       "      <td></td>\n",
       "      <td>340.0</td>\n",
       "      <td>False</td>\n",
       "      <td>False</td>\n",
       "      <td>False</td>\n",
       "      <td>0</td>\n",
       "      <td>20</td>\n",
       "      <td>1500.0</td>\n",
       "    </tr>\n",
       "    <tr>\n",
       "      <th>4</th>\n",
       "      <td>9.6</td>\n",
       "      <td>Kasha</td>\n",
       "      <td></td>\n",
       "      <td>111.0</td>\n",
       "      <td>False</td>\n",
       "      <td>False</td>\n",
       "      <td>True</td>\n",
       "      <td>0</td>\n",
       "      <td>30</td>\n",
       "      <td>1611.0</td>\n",
       "    </tr>\n",
       "  </tbody>\n",
       "</table>\n",
       "</div>"
      ],
      "text/plain": [
       "   Time  Weaponskill Ability  Potency  Jinpu  Shifu Yukikaze  Higanbana  \\\n",
       "0   0.0        Kasha            400.0  False  False    False          0   \n",
       "1   2.4        Gekko            400.0  False  False    False          0   \n",
       "2   4.8  Tenka Goken            360.0  False  False    False          0   \n",
       "3   7.2     Yukikaze            340.0  False  False    False          0   \n",
       "4   9.6        Kasha            111.0  False  False     True          0   \n",
       "\n",
       "   Kenki  Total Potency  \n",
       "0      0          400.0  \n",
       "1     10          800.0  \n",
       "2     20         1160.0  \n",
       "3     20         1500.0  \n",
       "4     30         1611.0  "
      ]
     },
     "metadata": {},
     "output_type": "display_data"
    }
   ],
   "source": [
    "df0, average_potency, pps = sam.parse_rotation(actions)\n",
    "display(df0)"
   ]
  },
  {
   "cell_type": "markdown",
   "metadata": {
    "collapsed": true
   },
   "source": [
    "<a href=\"#header\">back to the top...</a>"
   ]
  }
 ],
 "metadata": {
  "kernelspec": {
   "display_name": "Python 3",
   "language": "python",
   "name": "python3"
  },
  "language_info": {
   "codemirror_mode": {
    "name": "ipython",
    "version": 3
   },
   "file_extension": ".py",
   "mimetype": "text/x-python",
   "name": "python",
   "nbconvert_exporter": "python",
   "pygments_lexer": "ipython3",
   "version": "3.6.0"
  }
 },
 "nbformat": 4,
 "nbformat_minor": 2
}
